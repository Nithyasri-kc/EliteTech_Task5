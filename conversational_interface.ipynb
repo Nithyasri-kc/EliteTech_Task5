{
  "nbformat": 4,
  "nbformat_minor": 0,
  "metadata": {
    "colab": {
      "provenance": [],
      "authorship_tag": "ABX9TyMabmUnm21YYwZm/mP99SI4",
      "include_colab_link": true
    },
    "kernelspec": {
      "name": "python3",
      "display_name": "Python 3"
    },
    "language_info": {
      "name": "python"
    }
  },
  "cells": [
    {
      "cell_type": "markdown",
      "metadata": {
        "id": "view-in-github",
        "colab_type": "text"
      },
      "source": [
        "<a href=\"https://colab.research.google.com/github/Nithyasri-kc/EliteTech_Task5/blob/main/conversational_interface.ipynb\" target=\"_parent\"><img src=\"https://colab.research.google.com/assets/colab-badge.svg\" alt=\"Open In Colab\"/></a>"
      ]
    },
    {
      "cell_type": "code",
      "execution_count": 1,
      "metadata": {
        "colab": {
          "base_uri": "https://localhost:8080/"
        },
        "id": "O78rlrAQeHjf",
        "outputId": "37def30e-e2b0-4f98-cf0a-158d0c63a8e5"
      },
      "outputs": [
        {
          "output_type": "stream",
          "name": "stdout",
          "text": [
            "\n",
            "\u001b[31m================================================================================\u001b[m\n",
            "\u001b[31m================================================================================\u001b[m\n",
            "\n",
            "  \u001b[1m\u001b[33m                            DEPRECATION WARNING                            \u001b[m\n",
            "\n",
            "    \u001b[1m\u001b[4m Node.js 16.x is no longer actively supported!\u001b[m\n",
            "\n",
            "  \u001b[1mYou will not receive security or critical stability updates\u001b[m for this version.\n",
            "\n",
            "  You should migrate to a supported version of Node.js as soon as possible.\n",
            "  Use the installation script that corresponds to the version of Node.js you\n",
            "  wish to install. e.g.\n",
            "  \n",
            "   * \u001b[31mhttps://deb.nodesource.com/setup_16.x — Node.js 16 \"Gallium\" \u001b[1m(deprecated)\u001b[m\n",
            "   * \u001b[32mhttps://deb.nodesource.com/setup_18.x — Node.js 18 \"Hydrogen\" (Maintenance)\u001b[m\n",
            "   * \u001b[31mhttps://deb.nodesource.com/setup_19.x — Node.js 19 \"Nineteen\" \u001b[1m(deprecated)\u001b[m\n",
            "   * \u001b[1m\u001b[32mhttps://deb.nodesource.com/setup_20.x — Node.js 20 LTS \"Iron\" (recommended)\u001b[m\n",
            "   * \u001b[32mhttps://deb.nodesource.com/setup_21.x — Node.js 21 \"Iron\" (current)\u001b[m\n",
            "   \n",
            "\n",
            "\n",
            "  Please see \u001b[1mhttps://github.com/nodejs/Release\u001b[m for details about which\n",
            "  version may be appropriate for you.\n",
            "\n",
            "  The \u001b[32m\u001b[1mNodeSource\u001b[m Node.js distributions repository contains\n",
            "  information both about supported versions of Node.js and supported Linux\n",
            "  distributions. To learn more about usage, see the repository:\n",
            "   \u001b[4m\u001b[1mhttps://github.com/nodesource/distributions\u001b[m\n",
            "\n",
            "\u001b[31m================================================================================\u001b[m\n",
            "\u001b[31m================================================================================\u001b[m\n",
            "\n",
            "Continuing in 10 seconds ...\n",
            "\n",
            "\u001b[38;5;79m2024-11-09 05:50:06 - Installing pre-requisites\u001b[0m\n",
            "Get:1 https://cloud.r-project.org/bin/linux/ubuntu jammy-cran40/ InRelease [3,626 B]\n",
            "Hit:2 https://developer.download.nvidia.com/compute/cuda/repos/ubuntu2204/x86_64  InRelease\n",
            "Get:3 https://r2u.stat.illinois.edu/ubuntu jammy InRelease [6,555 B]\n",
            "Get:4 http://security.ubuntu.com/ubuntu jammy-security InRelease [129 kB]\n",
            "Hit:5 http://archive.ubuntu.com/ubuntu jammy InRelease\n",
            "Get:6 http://archive.ubuntu.com/ubuntu jammy-updates InRelease [128 kB]\n",
            "Hit:7 https://ppa.launchpadcontent.net/deadsnakes/ppa/ubuntu jammy InRelease\n",
            "Hit:8 https://ppa.launchpadcontent.net/graphics-drivers/ppa/ubuntu jammy InRelease\n",
            "Get:9 https://r2u.stat.illinois.edu/ubuntu jammy/main amd64 Packages [2,611 kB]\n",
            "Hit:10 https://ppa.launchpadcontent.net/ubuntugis/ppa/ubuntu jammy InRelease\n",
            "Get:11 https://r2u.stat.illinois.edu/ubuntu jammy/main all Packages [8,458 kB]\n",
            "Get:12 http://archive.ubuntu.com/ubuntu jammy-backports InRelease [127 kB]\n",
            "Get:13 http://archive.ubuntu.com/ubuntu jammy-updates/restricted amd64 Packages [3,353 kB]\n",
            "Get:14 http://archive.ubuntu.com/ubuntu jammy-updates/main amd64 Packages [2,696 kB]\n",
            "Get:15 http://archive.ubuntu.com/ubuntu jammy-updates/universe amd64 Packages [1,452 kB]\n",
            "Fetched 19.0 MB in 3s (5,819 kB/s)\n",
            "Reading package lists... Done\n",
            "W: Skipping acquire of configured file 'main/source/Sources' as repository 'https://r2u.stat.illinois.edu/ubuntu jammy InRelease' does not seem to provide it (sources.list entry misspelt?)\n",
            "Reading package lists... Done\n",
            "Building dependency tree... Done\n",
            "Reading state information... Done\n",
            "ca-certificates is already the newest version (20240203~22.04.1).\n",
            "curl is already the newest version (7.81.0-1ubuntu1.18).\n",
            "gnupg is already the newest version (2.2.27-3ubuntu2.1).\n",
            "gnupg set to manually installed.\n",
            "The following NEW packages will be installed:\n",
            "  apt-transport-https\n",
            "0 upgraded, 1 newly installed, 0 to remove and 51 not upgraded.\n",
            "Need to get 1,510 B of archives.\n",
            "After this operation, 170 kB of additional disk space will be used.\n",
            "Get:1 http://archive.ubuntu.com/ubuntu jammy-updates/universe amd64 apt-transport-https all 2.4.13 [1,510 B]\n",
            "Fetched 1,510 B in 0s (6,480 B/s)\n",
            "Selecting previously unselected package apt-transport-https.\n",
            "(Reading database ... 123623 files and directories currently installed.)\n",
            "Preparing to unpack .../apt-transport-https_2.4.13_all.deb ...\n",
            "Unpacking apt-transport-https (2.4.13) ...\n",
            "Setting up apt-transport-https (2.4.13) ...\n",
            "Hit:1 https://cloud.r-project.org/bin/linux/ubuntu jammy-cran40/ InRelease\n",
            "Get:2 https://deb.nodesource.com/node_16.x nodistro InRelease [12.1 kB]\n",
            "Hit:3 https://developer.download.nvidia.com/compute/cuda/repos/ubuntu2204/x86_64  InRelease\n",
            "Hit:4 http://security.ubuntu.com/ubuntu jammy-security InRelease\n",
            "Hit:5 http://archive.ubuntu.com/ubuntu jammy InRelease\n",
            "Hit:6 https://r2u.stat.illinois.edu/ubuntu jammy InRelease\n",
            "Hit:7 http://archive.ubuntu.com/ubuntu jammy-updates InRelease\n",
            "Hit:8 http://archive.ubuntu.com/ubuntu jammy-backports InRelease\n",
            "Get:9 https://deb.nodesource.com/node_16.x nodistro/main amd64 Packages [7,253 B]\n",
            "Hit:10 https://ppa.launchpadcontent.net/deadsnakes/ppa/ubuntu jammy InRelease\n",
            "Hit:11 https://ppa.launchpadcontent.net/graphics-drivers/ppa/ubuntu jammy InRelease\n",
            "Hit:12 https://ppa.launchpadcontent.net/ubuntugis/ppa/ubuntu jammy InRelease\n",
            "Fetched 19.4 kB in 2s (9,709 B/s)\n",
            "Reading package lists... Done\n",
            "W: Skipping acquire of configured file 'main/source/Sources' as repository 'https://r2u.stat.illinois.edu/ubuntu jammy InRelease' does not seem to provide it (sources.list entry misspelt?)\n",
            "\u001b[1;32m2024-11-09 05:50:24 - Repository configured successfully. To install Node.js, run: apt-get install nodejs -y\u001b[0m\n",
            "Reading package lists... Done\n",
            "Building dependency tree... Done\n",
            "Reading state information... Done\n",
            "The following NEW packages will be installed:\n",
            "  nodejs\n",
            "0 upgraded, 1 newly installed, 0 to remove and 51 not upgraded.\n",
            "Need to get 27.5 MB of archives.\n",
            "After this operation, 128 MB of additional disk space will be used.\n",
            "Get:1 https://deb.nodesource.com/node_16.x nodistro/main amd64 nodejs amd64 16.20.2-1nodesource1 [27.5 MB]\n",
            "Fetched 27.5 MB in 1s (30.0 MB/s)\n",
            "debconf: unable to initialize frontend: Dialog\n",
            "debconf: (No usable dialog-like program is installed, so the dialog based frontend cannot be used. at /usr/share/perl5/Debconf/FrontEnd/Dialog.pm line 78, <> line 1.)\n",
            "debconf: falling back to frontend: Readline\n",
            "debconf: unable to initialize frontend: Readline\n",
            "debconf: (This frontend requires a controlling tty.)\n",
            "debconf: falling back to frontend: Teletype\n",
            "dpkg-preconfigure: unable to re-open stdin: \n",
            "Selecting previously unselected package nodejs.\n",
            "(Reading database ... 123627 files and directories currently installed.)\n",
            "Preparing to unpack .../nodejs_16.20.2-1nodesource1_amd64.deb ...\n",
            "Unpacking nodejs (16.20.2-1nodesource1) ...\n",
            "Setting up nodejs (16.20.2-1nodesource1) ...\n",
            "Processing triggers for man-db (2.10.2-1) ...\n",
            "\u001b[K\u001b[?25h\u001b[37;40mnpm\u001b[0m \u001b[0m\u001b[30;43mWARN\u001b[0m \u001b[0m\u001b[35mEBADENGINE\u001b[0m Unsupported engine {\n",
            "\u001b[0m\u001b[37;40mnpm\u001b[0m \u001b[0m\u001b[30;43mWARN\u001b[0m \u001b[0m\u001b[35mEBADENGINE\u001b[0m   package: 'firebase-tools@13.24.2',\n",
            "\u001b[0m\u001b[37;40mnpm\u001b[0m \u001b[0m\u001b[30;43mWARN\u001b[0m \u001b[0m\u001b[35mEBADENGINE\u001b[0m   required: { node: '>=18.0.0 || >=20.0.0' },\n",
            "\u001b[0m\u001b[37;40mnpm\u001b[0m \u001b[0m\u001b[30;43mWARN\u001b[0m \u001b[0m\u001b[35mEBADENGINE\u001b[0m   current: { node: 'v16.20.2', npm: '8.19.4' }\n",
            "\u001b[0m\u001b[37;40mnpm\u001b[0m \u001b[0m\u001b[30;43mWARN\u001b[0m \u001b[0m\u001b[35mEBADENGINE\u001b[0m }\n",
            "\u001b[0m\u001b[37;40mnpm\u001b[0m \u001b[0m\u001b[30;43mWARN\u001b[0m \u001b[0m\u001b[35mEBADENGINE\u001b[0m Unsupported engine {\n",
            "\u001b[0m\u001b[37;40mnpm\u001b[0m \u001b[0m\u001b[30;43mWARN\u001b[0m \u001b[0m\u001b[35mEBADENGINE\u001b[0m   package: 'marked@13.0.3',\n",
            "\u001b[0m\u001b[37;40mnpm\u001b[0m \u001b[0m\u001b[30;43mWARN\u001b[0m \u001b[0m\u001b[35mEBADENGINE\u001b[0m   required: { node: '>= 18' },\n",
            "\u001b[0m\u001b[37;40mnpm\u001b[0m \u001b[0m\u001b[30;43mWARN\u001b[0m \u001b[0m\u001b[35mEBADENGINE\u001b[0m   current: { node: 'v16.20.2', npm: '8.19.4' }\n",
            "\u001b[0m\u001b[37;40mnpm\u001b[0m \u001b[0m\u001b[30;43mWARN\u001b[0m \u001b[0m\u001b[35mEBADENGINE\u001b[0m }\n",
            "\u001b[0m\u001b[37;40mnpm\u001b[0m \u001b[0m\u001b[30;43mWARN\u001b[0m \u001b[0m\u001b[35mEBADENGINE\u001b[0m Unsupported engine {\n",
            "\u001b[0m\u001b[37;40mnpm\u001b[0m \u001b[0m\u001b[30;43mWARN\u001b[0m \u001b[0m\u001b[35mEBADENGINE\u001b[0m   package: 'ansi-escapes@7.0.0',\n",
            "\u001b[0m\u001b[37;40mnpm\u001b[0m \u001b[0m\u001b[30;43mWARN\u001b[0m \u001b[0m\u001b[35mEBADENGINE\u001b[0m   required: { node: '>=18' },\n",
            "\u001b[0m\u001b[37;40mnpm\u001b[0m \u001b[0m\u001b[30;43mWARN\u001b[0m \u001b[0m\u001b[35mEBADENGINE\u001b[0m   current: { node: 'v16.20.2', npm: '8.19.4' }\n",
            "\u001b[0m\u001b[37;40mnpm\u001b[0m \u001b[0m\u001b[30;43mWARN\u001b[0m \u001b[0m\u001b[35mEBADENGINE\u001b[0m }\n",
            "\u001b[0m\u001b[37;40mnpm\u001b[0m \u001b[0m\u001b[30;43mWARN\u001b[0m \u001b[0m\u001b[35mEBADENGINE\u001b[0m Unsupported engine {\n",
            "\u001b[0m\u001b[37;40mnpm\u001b[0m \u001b[0m\u001b[30;43mWARN\u001b[0m \u001b[0m\u001b[35mEBADENGINE\u001b[0m   package: 'node-emoji@2.1.3',\n",
            "\u001b[0m\u001b[37;40mnpm\u001b[0m \u001b[0m\u001b[30;43mWARN\u001b[0m \u001b[0m\u001b[35mEBADENGINE\u001b[0m   required: { node: '>=18' },\n",
            "\u001b[0m\u001b[37;40mnpm\u001b[0m \u001b[0m\u001b[30;43mWARN\u001b[0m \u001b[0m\u001b[35mEBADENGINE\u001b[0m   current: { node: 'v16.20.2', npm: '8.19.4' }\n",
            "\u001b[0m\u001b[37;40mnpm\u001b[0m \u001b[0m\u001b[30;43mWARN\u001b[0m \u001b[0m\u001b[35mEBADENGINE\u001b[0m }\n",
            "\u001b[0m\u001b[37;40mnpm\u001b[0m \u001b[0m\u001b[30;43mWARN\u001b[0m \u001b[0m\u001b[35mEBADENGINE\u001b[0m Unsupported engine {\n",
            "\u001b[0m\u001b[37;40mnpm\u001b[0m \u001b[0m\u001b[30;43mWARN\u001b[0m \u001b[0m\u001b[35mEBADENGINE\u001b[0m   package: 'environment@1.1.0',\n",
            "\u001b[0m\u001b[37;40mnpm\u001b[0m \u001b[0m\u001b[30;43mWARN\u001b[0m \u001b[0m\u001b[35mEBADENGINE\u001b[0m   required: { node: '>=18' },\n",
            "\u001b[0m\u001b[37;40mnpm\u001b[0m \u001b[0m\u001b[30;43mWARN\u001b[0m \u001b[0m\u001b[35mEBADENGINE\u001b[0m   current: { node: 'v16.20.2', npm: '8.19.4' }\n",
            "\u001b[0m\u001b[37;40mnpm\u001b[0m \u001b[0m\u001b[30;43mWARN\u001b[0m \u001b[0m\u001b[35mEBADENGINE\u001b[0m }\n",
            "\u001b[K\u001b[?25h\n",
            "added 641 packages, and audited 642 packages in 2m\n",
            "\n",
            "69 packages are looking for funding\n",
            "  run `npm fund` for details\n",
            "\n",
            "3 \u001b[31m\u001b[1mhigh\u001b[22m\u001b[39m severity vulnerabilities\n",
            "\n",
            "To address all issues (including breaking changes), run:\n",
            "  npm audit fix --force\n",
            "\n",
            "Run `npm audit` for details.\n"
          ]
        }
      ],
      "source": [
        "# Install Node.js and Firebase CLI\n",
        "!curl -fsSL https://deb.nodesource.com/setup_16.x | sudo -E bash -\n",
        "!sudo apt-get install -y nodejs\n",
        "!npm install -g firebase-tools\n"
      ]
    },
    {
      "cell_type": "code",
      "source": [
        "!firebase login --no-localhost\n"
      ],
      "metadata": {
        "colab": {
          "base_uri": "https://localhost:8080/"
        },
        "id": "ChJHilQcfBKj",
        "outputId": "da244910-d3c0-4f43-bb9d-66c95616a48b"
      },
      "execution_count": 2,
      "outputs": [
        {
          "output_type": "stream",
          "name": "stdout",
          "text": [
            "Firebase CLI v13.24.2 is incompatible with Node.js v16.20.2 Please upgrade Node.js to version >=18.0.0 || >=20.0.0\n"
          ]
        }
      ]
    },
    {
      "cell_type": "code",
      "source": [
        "!firebase init hosting\n"
      ],
      "metadata": {
        "colab": {
          "base_uri": "https://localhost:8080/"
        },
        "id": "Ow-q8mhVfBqS",
        "outputId": "9f449ea7-7395-4e77-9d5f-1cc6ade11eaf"
      },
      "execution_count": 3,
      "outputs": [
        {
          "output_type": "stream",
          "name": "stdout",
          "text": [
            "Firebase CLI v13.24.2 is incompatible with Node.js v16.20.2 Please upgrade Node.js to version >=18.0.0 || >=20.0.0\n"
          ]
        }
      ]
    },
    {
      "cell_type": "code",
      "source": [
        "!sudo apt-get remove -y nodejs\n"
      ],
      "metadata": {
        "colab": {
          "base_uri": "https://localhost:8080/"
        },
        "id": "2ZVTX3JafHDr",
        "outputId": "e97af6ec-4e4b-417a-d922-dbfa8f534999"
      },
      "execution_count": 4,
      "outputs": [
        {
          "output_type": "stream",
          "name": "stdout",
          "text": [
            "Reading package lists... Done\n",
            "Building dependency tree... Done\n",
            "Reading state information... Done\n",
            "The following packages will be REMOVED:\n",
            "  nodejs\n",
            "0 upgraded, 0 newly installed, 1 to remove and 51 not upgraded.\n",
            "After this operation, 128 MB disk space will be freed.\n",
            "(Reading database ... 126830 files and directories currently installed.)\n",
            "Removing nodejs (16.20.2-1nodesource1) ...\n",
            "dpkg: warning: while removing nodejs, directory '/usr/lib/node_modules' not empty so not removed\n",
            "Processing triggers for man-db (2.10.2-1) ...\n"
          ]
        }
      ]
    },
    {
      "cell_type": "code",
      "source": [
        "# Install Node.js v18 (LTS)\n",
        "!curl -fsSL https://deb.nodesource.com/setup_18.x | sudo -E bash -\n",
        "!sudo apt-get install -y nodejs\n",
        "\n",
        "# Verify the installed version\n",
        "!node -v\n"
      ],
      "metadata": {
        "colab": {
          "base_uri": "https://localhost:8080/"
        },
        "id": "pMBrOXAgfoSe",
        "outputId": "471f522f-93bf-4ffa-a2e2-3b22cb3f815f"
      },
      "execution_count": 5,
      "outputs": [
        {
          "output_type": "stream",
          "name": "stdout",
          "text": [
            "\u001b[38;5;79m2024-11-09 05:57:02 - Installing pre-requisites\u001b[0m\n",
            "\r0% [Working]\r            \rHit:1 http://archive.ubuntu.com/ubuntu jammy InRelease\n",
            "\r0% [Connecting to security.ubuntu.com (185.125.190.82)] [Connected to cloud.r-project.org (18.154.10\r                                                                                                    \rHit:2 https://cloud.r-project.org/bin/linux/ubuntu jammy-cran40/ InRelease\n",
            "\r0% [Waiting for headers] [Connecting to security.ubuntu.com (185.125.190.82)] [Connected to r2u.stat\r                                                                                                    \rHit:3 http://archive.ubuntu.com/ubuntu jammy-updates InRelease\n",
            "Hit:4 https://developer.download.nvidia.com/compute/cuda/repos/ubuntu2204/x86_64  InRelease\n",
            "Hit:5 https://deb.nodesource.com/node_16.x nodistro InRelease\n",
            "Hit:6 http://archive.ubuntu.com/ubuntu jammy-backports InRelease\n",
            "Hit:7 https://r2u.stat.illinois.edu/ubuntu jammy InRelease\n",
            "Hit:8 http://security.ubuntu.com/ubuntu jammy-security InRelease\n",
            "Hit:9 https://ppa.launchpadcontent.net/deadsnakes/ppa/ubuntu jammy InRelease\n",
            "Hit:10 https://ppa.launchpadcontent.net/graphics-drivers/ppa/ubuntu jammy InRelease\n",
            "Hit:11 https://ppa.launchpadcontent.net/ubuntugis/ppa/ubuntu jammy InRelease\n",
            "Reading package lists... Done\n",
            "W: Skipping acquire of configured file 'main/source/Sources' as repository 'https://r2u.stat.illinois.edu/ubuntu jammy InRelease' does not seem to provide it (sources.list entry misspelt?)\n",
            "Reading package lists... Done\n",
            "Building dependency tree... Done\n",
            "Reading state information... Done\n",
            "ca-certificates is already the newest version (20240203~22.04.1).\n",
            "curl is already the newest version (7.81.0-1ubuntu1.18).\n",
            "gnupg is already the newest version (2.2.27-3ubuntu2.1).\n",
            "apt-transport-https is already the newest version (2.4.13).\n",
            "0 upgraded, 0 newly installed, 0 to remove and 51 not upgraded.\n",
            "Hit:1 https://cloud.r-project.org/bin/linux/ubuntu jammy-cran40/ InRelease\n",
            "Get:2 https://deb.nodesource.com/node_18.x nodistro InRelease [12.1 kB]\n",
            "Hit:3 https://developer.download.nvidia.com/compute/cuda/repos/ubuntu2204/x86_64  InRelease\n",
            "Hit:4 https://r2u.stat.illinois.edu/ubuntu jammy InRelease\n",
            "Hit:5 http://security.ubuntu.com/ubuntu jammy-security InRelease\n",
            "Get:6 https://deb.nodesource.com/node_18.x nodistro/main amd64 Packages [10.3 kB]\n",
            "Hit:7 http://archive.ubuntu.com/ubuntu jammy InRelease\n",
            "Hit:8 http://archive.ubuntu.com/ubuntu jammy-updates InRelease\n",
            "Hit:9 https://ppa.launchpadcontent.net/deadsnakes/ppa/ubuntu jammy InRelease\n",
            "Hit:10 http://archive.ubuntu.com/ubuntu jammy-backports InRelease\n",
            "Hit:11 https://ppa.launchpadcontent.net/graphics-drivers/ppa/ubuntu jammy InRelease\n",
            "Hit:12 https://ppa.launchpadcontent.net/ubuntugis/ppa/ubuntu jammy InRelease\n",
            "Fetched 22.4 kB in 2s (14.9 kB/s)\n",
            "Reading package lists... Done\n",
            "W: Skipping acquire of configured file 'main/source/Sources' as repository 'https://r2u.stat.illinois.edu/ubuntu jammy InRelease' does not seem to provide it (sources.list entry misspelt?)\n",
            "\u001b[1;34m2024-11-09 05:57:12 - Repository configured successfully.\u001b[0m\n",
            "\u001b[38;5;79m2024-11-09 05:57:12 - To install Node.js, run: apt-get install nodejs -y\u001b[0m\n",
            "\u001b[38;5;79m2024-11-09 05:57:12 - You can use N|solid Runtime as a node.js alternative\u001b[0m\n",
            "\u001b[1;32m2024-11-09 05:57:12 - To install N|solid Runtime, run: apt-get install nsolid -y \n",
            "\u001b[0m\n",
            "Reading package lists... Done\n",
            "Building dependency tree... Done\n",
            "Reading state information... Done\n",
            "The following NEW packages will be installed:\n",
            "  nodejs\n",
            "0 upgraded, 1 newly installed, 0 to remove and 51 not upgraded.\n",
            "Need to get 29.6 MB of archives.\n",
            "After this operation, 187 MB of additional disk space will be used.\n",
            "Get:1 https://deb.nodesource.com/node_18.x nodistro/main amd64 nodejs amd64 18.20.4-1nodesource1 [29.6 MB]\n",
            "Fetched 29.6 MB in 1s (55.9 MB/s)\n",
            "debconf: unable to initialize frontend: Dialog\n",
            "debconf: (No usable dialog-like program is installed, so the dialog based frontend cannot be used. at /usr/share/perl5/Debconf/FrontEnd/Dialog.pm line 78, <> line 1.)\n",
            "debconf: falling back to frontend: Readline\n",
            "debconf: unable to initialize frontend: Readline\n",
            "debconf: (This frontend requires a controlling tty.)\n",
            "debconf: falling back to frontend: Teletype\n",
            "dpkg-preconfigure: unable to re-open stdin: \n",
            "Selecting previously unselected package nodejs.\n",
            "(Reading database ... 123627 files and directories currently installed.)\n",
            "Preparing to unpack .../nodejs_18.20.4-1nodesource1_amd64.deb ...\n",
            "Unpacking nodejs (18.20.4-1nodesource1) ...\n",
            "Setting up nodejs (18.20.4-1nodesource1) ...\n",
            "Processing triggers for man-db (2.10.2-1) ...\n",
            "v18.20.4\n"
          ]
        }
      ]
    },
    {
      "cell_type": "code",
      "source": [
        "# Install Node.js v20 (Current)\n",
        "!curl -fsSL https://deb.nodesource.com/setup_20.x | sudo -E bash -\n",
        "!sudo apt-get install -y nodejs\n",
        "\n",
        "# Verify the installed version\n",
        "!node -v\n"
      ],
      "metadata": {
        "colab": {
          "base_uri": "https://localhost:8080/"
        },
        "id": "63gJ8AFXf0wI",
        "outputId": "2b28cd97-28ca-415d-8106-8dc3f701beed"
      },
      "execution_count": 6,
      "outputs": [
        {
          "output_type": "stream",
          "name": "stdout",
          "text": [
            "\u001b[38;5;79m2024-11-09 05:57:24 - Installing pre-requisites\u001b[0m\n",
            "\r0% [Working]\r            \rHit:1 https://cloud.r-project.org/bin/linux/ubuntu jammy-cran40/ InRelease\n",
            "Hit:2 https://developer.download.nvidia.com/compute/cuda/repos/ubuntu2204/x86_64  InRelease\n",
            "Hit:3 https://deb.nodesource.com/node_18.x nodistro InRelease\n",
            "Hit:4 https://r2u.stat.illinois.edu/ubuntu jammy InRelease\n",
            "Hit:5 http://security.ubuntu.com/ubuntu jammy-security InRelease\n",
            "Hit:6 http://archive.ubuntu.com/ubuntu jammy InRelease\n",
            "Hit:7 http://archive.ubuntu.com/ubuntu jammy-updates InRelease\n",
            "Hit:8 http://archive.ubuntu.com/ubuntu jammy-backports InRelease\n",
            "Hit:9 https://ppa.launchpadcontent.net/deadsnakes/ppa/ubuntu jammy InRelease\n",
            "Hit:10 https://ppa.launchpadcontent.net/graphics-drivers/ppa/ubuntu jammy InRelease\n",
            "Hit:11 https://ppa.launchpadcontent.net/ubuntugis/ppa/ubuntu jammy InRelease\n",
            "Reading package lists... Done\n",
            "W: Skipping acquire of configured file 'main/source/Sources' as repository 'https://r2u.stat.illinois.edu/ubuntu jammy InRelease' does not seem to provide it (sources.list entry misspelt?)\n",
            "Reading package lists... Done\n",
            "Building dependency tree... Done\n",
            "Reading state information... Done\n",
            "ca-certificates is already the newest version (20240203~22.04.1).\n",
            "curl is already the newest version (7.81.0-1ubuntu1.18).\n",
            "gnupg is already the newest version (2.2.27-3ubuntu2.1).\n",
            "apt-transport-https is already the newest version (2.4.13).\n",
            "0 upgraded, 0 newly installed, 0 to remove and 51 not upgraded.\n",
            "Hit:1 http://security.ubuntu.com/ubuntu jammy-security InRelease\n",
            "Hit:2 https://cloud.r-project.org/bin/linux/ubuntu jammy-cran40/ InRelease\n",
            "Hit:3 https://developer.download.nvidia.com/compute/cuda/repos/ubuntu2204/x86_64  InRelease\n",
            "Get:4 https://deb.nodesource.com/node_20.x nodistro InRelease [12.1 kB]\n",
            "Hit:5 https://r2u.stat.illinois.edu/ubuntu jammy InRelease\n",
            "Hit:6 http://archive.ubuntu.com/ubuntu jammy InRelease\n",
            "Hit:7 http://archive.ubuntu.com/ubuntu jammy-updates InRelease\n",
            "Hit:8 http://archive.ubuntu.com/ubuntu jammy-backports InRelease\n",
            "Get:9 https://deb.nodesource.com/node_20.x nodistro/main amd64 Packages [9,431 B]\n",
            "Hit:10 https://ppa.launchpadcontent.net/deadsnakes/ppa/ubuntu jammy InRelease\n",
            "Hit:11 https://ppa.launchpadcontent.net/graphics-drivers/ppa/ubuntu jammy InRelease\n",
            "Hit:12 https://ppa.launchpadcontent.net/ubuntugis/ppa/ubuntu jammy InRelease\n",
            "Fetched 21.6 kB in 1s (16.9 kB/s)\n",
            "Reading package lists... Done\n",
            "W: Skipping acquire of configured file 'main/source/Sources' as repository 'https://r2u.stat.illinois.edu/ubuntu jammy InRelease' does not seem to provide it (sources.list entry misspelt?)\n",
            "\u001b[1;34m2024-11-09 05:57:33 - Repository configured successfully.\u001b[0m\n",
            "\u001b[38;5;79m2024-11-09 05:57:33 - To install Node.js, run: apt-get install nodejs -y\u001b[0m\n",
            "\u001b[38;5;79m2024-11-09 05:57:33 - You can use N|solid Runtime as a node.js alternative\u001b[0m\n",
            "\u001b[1;32m2024-11-09 05:57:33 - To install N|solid Runtime, run: apt-get install nsolid -y \n",
            "\u001b[0m\n",
            "Reading package lists... Done\n",
            "Building dependency tree... Done\n",
            "Reading state information... Done\n",
            "The following packages will be upgraded:\n",
            "  nodejs\n",
            "1 upgraded, 0 newly installed, 0 to remove and 51 not upgraded.\n",
            "Need to get 31.8 MB of archives.\n",
            "After this operation, 9,927 kB of additional disk space will be used.\n",
            "Get:1 https://deb.nodesource.com/node_20.x nodistro/main amd64 nodejs amd64 20.18.0-1nodesource1 [31.8 MB]\n",
            "Fetched 31.8 MB in 1s (57.0 MB/s)\n",
            "debconf: unable to initialize frontend: Dialog\n",
            "debconf: (No usable dialog-like program is installed, so the dialog based frontend cannot be used. at /usr/share/perl5/Debconf/FrontEnd/Dialog.pm line 78, <> line 1.)\n",
            "debconf: falling back to frontend: Readline\n",
            "debconf: unable to initialize frontend: Readline\n",
            "debconf: (This frontend requires a controlling tty.)\n",
            "debconf: falling back to frontend: Teletype\n",
            "dpkg-preconfigure: unable to re-open stdin: \n",
            "(Reading database ... 128952 files and directories currently installed.)\n",
            "Preparing to unpack .../nodejs_20.18.0-1nodesource1_amd64.deb ...\n",
            "Detected old npm client, removing...\n",
            "Unpacking nodejs (20.18.0-1nodesource1) over (18.20.4-1nodesource1) ...\n",
            "Setting up nodejs (20.18.0-1nodesource1) ...\n",
            "Processing triggers for man-db (2.10.2-1) ...\n",
            "v20.18.0\n"
          ]
        }
      ]
    },
    {
      "cell_type": "code",
      "source": [
        "!npm install -g firebase-tools\n"
      ],
      "metadata": {
        "colab": {
          "base_uri": "https://localhost:8080/"
        },
        "id": "f8xTYfGzf6K8",
        "outputId": "1b140001-34cd-47c9-c29f-eb9d841a46a5"
      },
      "execution_count": 7,
      "outputs": [
        {
          "output_type": "stream",
          "name": "stdout",
          "text": [
            "\u001b[1G\u001b[0K⠙\u001b[1G\u001b[0K⠹\u001b[1G\u001b[0K⠸\u001b[1G\u001b[0K⠼\u001b[1G\u001b[0K⠴\u001b[1G\u001b[0K⠦\u001b[1G\u001b[0K⠧\u001b[1G\u001b[0K⠇\u001b[1G\u001b[0K⠏\u001b[1G\u001b[0K⠋\u001b[1G\u001b[0K⠙\u001b[1G\u001b[0K⠹\u001b[1G\u001b[0K⠸\u001b[1G\u001b[0K⠼\u001b[1G\u001b[0K⠴\u001b[1G\u001b[0K⠦\u001b[1G\u001b[0K⠧\u001b[1G\u001b[0K⠇\u001b[1G\u001b[0K⠏\u001b[1G\u001b[0K⠋\u001b[1G\u001b[0K⠙\u001b[1G\u001b[0K⠹\u001b[1G\u001b[0K⠸\u001b[1G\u001b[0K⠼\u001b[1G\u001b[0K⠴\u001b[1G\u001b[0K⠦\u001b[1G\u001b[0K⠧\u001b[1G\u001b[0K⠇\u001b[1G\u001b[0K⠏\u001b[1G\u001b[0K⠋\u001b[1G\u001b[0K⠙\u001b[1G\u001b[0K⠹\u001b[1G\u001b[0K⠸\u001b[1G\u001b[0K⠼\u001b[1G\u001b[0K⠴\u001b[1G\u001b[0K⠦\u001b[1G\u001b[0K⠧\u001b[1G\u001b[0K⠇\u001b[1G\u001b[0K⠏\u001b[1G\u001b[0K⠋\u001b[1G\u001b[0K⠙\u001b[1G\u001b[0K⠹\u001b[1G\u001b[0K⠸\u001b[1G\u001b[0K⠼\u001b[1G\u001b[0K⠴\u001b[1G\u001b[0K⠦\u001b[1G\u001b[0K⠧\u001b[1G\u001b[0K⠇\u001b[1G\u001b[0K⠏\u001b[1G\u001b[0K⠋\u001b[1G\u001b[0K⠙\u001b[1G\u001b[0K⠹\u001b[1G\u001b[0K⠸\u001b[1G\u001b[0K⠼\u001b[1G\u001b[0K⠴\u001b[1G\u001b[0K⠦\u001b[1G\u001b[0K⠧\u001b[1G\u001b[0K⠇\u001b[1G\u001b[0K⠏\u001b[1G\u001b[0K⠋\u001b[1G\u001b[0K⠙\u001b[1G\u001b[0K⠹\u001b[1G\u001b[0K⠸\u001b[1G\u001b[0K⠼\u001b[1G\u001b[0K⠴\u001b[1G\u001b[0K⠦\u001b[1G\u001b[0K⠧\u001b[1G\u001b[0K⠇\u001b[1G\u001b[0K⠏\u001b[1G\u001b[0K⠋\u001b[1G\u001b[0K⠙\u001b[1G\u001b[0K⠹\u001b[1G\u001b[0K⠸\u001b[1G\u001b[0K⠼\u001b[1G\u001b[0K⠴\u001b[1G\u001b[0K⠦\u001b[1G\u001b[0K⠧\u001b[1G\u001b[0K⠇\u001b[1G\u001b[0K⠏\u001b[1G\u001b[0K⠋\u001b[1G\u001b[0K⠙\u001b[1G\u001b[0K⠹\u001b[1G\u001b[0K⠸\u001b[1G\u001b[0K⠼\u001b[1G\u001b[0K⠴\u001b[1G\u001b[0K⠦\u001b[1G\u001b[0K⠧\u001b[1G\u001b[0K⠇\u001b[1G\u001b[0K⠏\u001b[1G\u001b[0K⠋\u001b[1G\u001b[0K⠙\u001b[1G\u001b[0K⠹\u001b[1G\u001b[0K⠸\u001b[1G\u001b[0K⠼\u001b[1G\u001b[0K⠴\u001b[1G\u001b[0K⠦\u001b[1G\u001b[0K⠧\u001b[1G\u001b[0K⠇\u001b[1G\u001b[0K⠏\u001b[1G\u001b[0K⠋\u001b[1G\u001b[0K⠙\u001b[1G\u001b[0K⠹\u001b[1G\u001b[0K⠸\u001b[1G\u001b[0K⠼\u001b[1G\u001b[0K⠴\u001b[1G\u001b[0K⠦\u001b[1G\u001b[0K⠧\u001b[1G\u001b[0K⠇\u001b[1G\u001b[0K⠏\u001b[1G\u001b[0K⠋\u001b[1G\u001b[0K⠙\u001b[1G\u001b[0K⠹\u001b[1G\u001b[0K⠸\u001b[1G\u001b[0K⠼\u001b[1G\u001b[0K⠴\u001b[1G\u001b[0K⠦\u001b[1G\u001b[0K⠧\u001b[1G\u001b[0K⠇\u001b[1G\u001b[0K⠏\u001b[1G\u001b[0K⠋\u001b[1G\u001b[0K⠙\u001b[1G\u001b[0K⠹\u001b[1G\u001b[0K⠸\u001b[1G\u001b[0K⠼\u001b[1G\u001b[0K⠴\u001b[1G\u001b[0K⠦\u001b[1G\u001b[0K⠧\u001b[1G\u001b[0K⠇\u001b[1G\u001b[0K⠏\u001b[1G\u001b[0K⠋\u001b[1G\u001b[0K⠙\u001b[1G\u001b[0K⠹\u001b[1G\u001b[0K⠸\u001b[1G\u001b[0K⠼\u001b[1G\u001b[0K⠴\u001b[1G\u001b[0K⠦\u001b[1G\u001b[0K⠧\u001b[1G\u001b[0K⠇\u001b[1G\u001b[0K⠏\u001b[1G\u001b[0K⠋\u001b[1G\u001b[0K⠙\u001b[1G\u001b[0K⠹\u001b[1G\u001b[0K⠸\u001b[1G\u001b[0K⠼\u001b[1G\u001b[0K⠴\u001b[1G\u001b[0K⠦\u001b[1G\u001b[0K⠧\u001b[1G\u001b[0K⠇\u001b[1G\u001b[0K⠏\u001b[1G\u001b[0K⠋\u001b[1G\u001b[0K⠙\u001b[1G\u001b[0K⠹\u001b[1G\u001b[0K⠸\u001b[1G\u001b[0K⠼\u001b[1G\u001b[0K⠴\u001b[1G\u001b[0K⠦\u001b[1G\u001b[0K⠧\u001b[1G\u001b[0K⠇\u001b[1G\u001b[0K⠏\u001b[1G\u001b[0K⠋\u001b[1G\u001b[0K⠙\u001b[1G\u001b[0K⠹\u001b[1G\u001b[0K⠸\u001b[1G\u001b[0K⠼\u001b[1G\u001b[0K⠴\u001b[1G\u001b[0K⠦\u001b[1G\u001b[0K⠧\u001b[1G\u001b[0K⠇\u001b[1G\u001b[0K⠏\u001b[1G\u001b[0K⠋\u001b[1G\u001b[0K⠙\u001b[1G\u001b[0K⠹\u001b[1G\u001b[0K⠸\u001b[1G\u001b[0K⠼\u001b[1G\u001b[0K⠴\u001b[1G\u001b[0K⠦\u001b[1G\u001b[0K⠧\u001b[1G\u001b[0K⠇\u001b[1G\u001b[0K⠏\u001b[1G\u001b[0K⠋\u001b[1G\u001b[0K⠙\u001b[1G\u001b[0K⠹\u001b[1G\u001b[0K⠸\u001b[1G\u001b[0K⠼\u001b[1G\u001b[0K⠴\u001b[1G\u001b[0K⠦\u001b[1G\u001b[0K⠧\u001b[1G\u001b[0K⠇\u001b[1G\u001b[0K⠏\u001b[1G\u001b[0K⠋\u001b[1G\u001b[0K⠙\u001b[1G\u001b[0K⠹\u001b[1G\u001b[0K⠸\u001b[1G\u001b[0K⠼\u001b[1G\u001b[0K⠴\u001b[1G\u001b[0K⠦\u001b[1G\u001b[0K⠧\u001b[1G\u001b[0K⠇\u001b[1G\u001b[0K⠏\u001b[1G\u001b[0K⠋\u001b[1G\u001b[0K⠙\u001b[1G\u001b[0K⠹\u001b[1G\u001b[0K⠸\u001b[1G\u001b[0K⠼\u001b[1G\u001b[0K⠴\u001b[1G\u001b[0K⠦\u001b[1G\u001b[0K⠧\u001b[1G\u001b[0K⠇\u001b[1G\u001b[0K⠏\u001b[1G\u001b[0K⠋\u001b[1G\u001b[0K⠙\u001b[1G\u001b[0K⠹\u001b[1G\u001b[0K⠸\u001b[1G\u001b[0K⠼\u001b[1G\u001b[0K⠴\u001b[1G\u001b[0K⠦\u001b[1G\u001b[0K⠧\u001b[1G\u001b[0K⠇\u001b[1G\u001b[0K⠏\u001b[1G\u001b[0K⠋\u001b[1G\u001b[0K⠙\u001b[1G\u001b[0K⠹\u001b[1G\u001b[0K⠸\u001b[1G\u001b[0K⠼\u001b[1G\u001b[0K⠴\u001b[1G\u001b[0K⠦\u001b[1G\u001b[0K⠧\u001b[1G\u001b[0K⠇\u001b[1G\u001b[0K⠏\u001b[1G\u001b[0K⠋\u001b[1G\u001b[0K⠙\u001b[1G\u001b[0K⠹\u001b[1G\u001b[0K⠸\u001b[1G\u001b[0K⠼\u001b[1G\u001b[0K⠴\u001b[1G\u001b[0K⠦\u001b[1G\u001b[0K⠧\u001b[1G\u001b[0K⠇\u001b[1G\u001b[0K⠏\u001b[1G\u001b[0K⠋\u001b[1G\u001b[0K⠙\u001b[1G\u001b[0K⠹\u001b[1G\u001b[0K⠸\u001b[1G\u001b[0K⠼\u001b[1G\u001b[0K⠴\u001b[1G\u001b[0K⠦\u001b[1G\u001b[0K⠧\u001b[1G\u001b[0K⠇\u001b[1G\u001b[0K⠏\u001b[1G\u001b[0K⠋\u001b[1G\u001b[0K⠙\u001b[1G\u001b[0K⠹\u001b[1G\u001b[0K⠸\u001b[1G\u001b[0K⠼\u001b[1G\u001b[0K⠴\u001b[1G\u001b[0K⠦\u001b[1G\u001b[0K⠧\u001b[1G\u001b[0K⠇\u001b[1G\u001b[0K⠏\u001b[1G\u001b[0K⠋\u001b[1G\u001b[0K⠙\u001b[1G\u001b[0K⠹\u001b[1G\u001b[0K⠸\u001b[1G\u001b[0K⠼\u001b[1G\u001b[0K⠴\u001b[1G\u001b[0K⠦\u001b[1G\u001b[0K⠧\u001b[1G\u001b[0K⠇\u001b[1G\u001b[0K⠏\u001b[1G\u001b[0K⠋\u001b[1G\u001b[0K⠙\u001b[1G\u001b[0K⠹\u001b[1G\u001b[0K⠸\u001b[1G\u001b[0K⠼\u001b[1G\u001b[0K⠴\u001b[1G\u001b[0K⠦\u001b[1G\u001b[0K⠧\u001b[1G\u001b[0K⠇\u001b[1G\u001b[0K⠏\u001b[1G\u001b[0K⠋\u001b[1G\u001b[0K⠙\u001b[1G\u001b[0K⠹\u001b[1G\u001b[0K⠸\u001b[1G\u001b[0K⠼\u001b[1G\u001b[0K⠴\u001b[1G\u001b[0K⠦\u001b[1G\u001b[0K⠧\u001b[1G\u001b[0K⠇\u001b[1G\u001b[0K⠏\u001b[1G\u001b[0K⠋\u001b[1G\u001b[0K⠙\u001b[1G\u001b[0K⠹\u001b[1G\u001b[0K⠸\u001b[1G\u001b[0K⠼\u001b[1G\u001b[0K⠴\u001b[1G\u001b[0K⠦\u001b[1G\u001b[0K⠧\u001b[1G\u001b[0K⠇\u001b[1G\u001b[0K⠏\u001b[1G\u001b[0K⠋\u001b[1G\u001b[0K⠙\u001b[1G\u001b[0K⠹\u001b[1G\u001b[0K⠸\u001b[1G\u001b[0K⠼\u001b[1G\u001b[0K⠴\u001b[1G\u001b[0K⠦\u001b[1G\u001b[0K⠧\u001b[1G\u001b[0K⠇\u001b[1G\u001b[0K⠏\u001b[1G\u001b[0K⠋\u001b[1G\u001b[0K⠙\u001b[1G\u001b[0K⠹\u001b[1G\u001b[0K⠸\u001b[1G\u001b[0K⠼\u001b[1G\u001b[0K⠴\u001b[1G\u001b[0K⠦\u001b[1G\u001b[0K⠧\u001b[1G\u001b[0K⠇\u001b[1G\u001b[0K⠏\u001b[1G\u001b[0K⠋\u001b[1G\u001b[0K⠙\u001b[1G\u001b[0K⠹\u001b[1G\u001b[0K⠸\u001b[1G\u001b[0K⠼\u001b[1G\u001b[0K⠴\u001b[1G\u001b[0K⠦\u001b[1G\u001b[0K⠧\u001b[1G\u001b[0K⠇\u001b[1G\u001b[0K⠏\u001b[1G\u001b[0K⠋\u001b[1G\u001b[0K⠙\u001b[1G\u001b[0K⠹\u001b[1G\u001b[0K⠸\u001b[1G\u001b[0K⠼\u001b[1G\u001b[0K⠴\u001b[1G\u001b[0K⠦\u001b[1G\u001b[0K⠧\u001b[1G\u001b[0K⠇\u001b[1G\u001b[0K⠏\u001b[1G\u001b[0K⠋\u001b[1G\u001b[0K⠙\u001b[1G\u001b[0K⠹\u001b[1G\u001b[0K⠸\u001b[1G\u001b[0K⠼\u001b[1G\u001b[0K⠴\u001b[1G\u001b[0K⠦\u001b[1G\u001b[0K⠧\u001b[1G\u001b[0K⠇\u001b[1G\u001b[0K⠏\u001b[1G\u001b[0K⠋\u001b[1G\u001b[0K⠙\u001b[1G\u001b[0K⠹\u001b[1G\u001b[0K⠸\u001b[1G\u001b[0K⠼\u001b[1G\u001b[0K⠴\u001b[1G\u001b[0K⠦\u001b[1G\u001b[0K⠧\u001b[1G\u001b[0K⠇\u001b[1G\u001b[0K⠏\u001b[1G\u001b[0K⠋\u001b[1G\u001b[0K⠙\u001b[1G\u001b[0K⠹\u001b[1G\u001b[0K⠸\u001b[1G\u001b[0K⠼\u001b[1G\u001b[0K⠴\u001b[1G\u001b[0K⠦\u001b[1G\u001b[0K⠧\u001b[1G\u001b[0K⠇\u001b[1G\u001b[0K⠏\u001b[1G\u001b[0K⠋\u001b[1G\u001b[0K⠙\u001b[1G\u001b[0K⠹\u001b[1G\u001b[0K⠸\u001b[1G\u001b[0K⠼\u001b[1G\u001b[0K⠴\u001b[1G\u001b[0K⠦\u001b[1G\u001b[0K⠧\u001b[1G\u001b[0K⠇\u001b[1G\u001b[0K⠏\u001b[1G\u001b[0K⠋\u001b[1G\u001b[0K⠙\u001b[1G\u001b[0K⠹\u001b[1G\u001b[0K⠸\u001b[1G\u001b[0K⠼\u001b[1G\u001b[0K⠴\u001b[1G\u001b[0K⠦\u001b[1G\u001b[0K⠧\u001b[1G\u001b[0K⠇\u001b[1G\u001b[0K⠏\u001b[1G\u001b[0K⠋\u001b[1G\u001b[0K⠙\u001b[1G\u001b[0K⠹\u001b[1G\u001b[0K⠸\u001b[1G\u001b[0K⠼\u001b[1G\u001b[0K⠴\u001b[1G\u001b[0K⠦\u001b[1G\u001b[0K⠧\u001b[1G\u001b[0K⠇\u001b[1G\u001b[0K⠏\u001b[1G\u001b[0K⠋\u001b[1G\u001b[0K⠙\u001b[1G\u001b[0K⠹\u001b[1G\u001b[0K⠸\u001b[1G\u001b[0K⠼\u001b[1G\u001b[0K⠴\u001b[1G\u001b[0K⠦\u001b[1G\u001b[0K⠧\u001b[1G\u001b[0K⠇\u001b[1G\u001b[0K⠏\u001b[1G\u001b[0K⠋\u001b[1G\u001b[0K⠙\u001b[1G\u001b[0K⠹\u001b[1G\u001b[0K⠸\u001b[1G\u001b[0K⠼\u001b[1G\u001b[0K⠴\u001b[1G\u001b[0K⠦\u001b[1G\u001b[0K⠧\u001b[1G\u001b[0K⠇\u001b[1G\u001b[0K⠏\u001b[1G\u001b[0K⠋\u001b[1G\u001b[0K⠙\u001b[1G\u001b[0K⠹\u001b[1G\u001b[0K⠸\u001b[1G\u001b[0K⠼\u001b[1G\u001b[0K⠴\u001b[1G\u001b[0K⠦\u001b[1G\u001b[0K⠧\u001b[1G\u001b[0K⠇\u001b[1G\u001b[0K⠏\u001b[1G\u001b[0K⠋\u001b[1G\u001b[0K⠙\u001b[1G\u001b[0K⠹\u001b[1G\u001b[0K⠸\u001b[1G\u001b[0K⠼\u001b[1G\u001b[0K⠴\u001b[1G\u001b[0K⠦\u001b[1G\u001b[0K⠧\u001b[1G\u001b[0K⠇\u001b[1G\u001b[0K⠏\u001b[1G\u001b[0K⠋\u001b[1G\u001b[0K⠙\u001b[1G\u001b[0K⠹\u001b[1G\u001b[0K⠸\u001b[1G\u001b[0K⠼\u001b[1G\u001b[0K⠴\u001b[1G\u001b[0K⠦\u001b[1G\u001b[0K⠧\u001b[1G\u001b[0K⠇\u001b[1G\u001b[0K⠏\u001b[1G\u001b[0K⠋\u001b[1G\u001b[0K⠙\u001b[1G\u001b[0K⠹\u001b[1G\u001b[0K⠸\u001b[1G\u001b[0K⠼\u001b[1G\u001b[0K⠴\u001b[1G\u001b[0K⠦\u001b[1G\u001b[0K⠧\u001b[1G\u001b[0K⠇\u001b[1G\u001b[0K⠏\u001b[1G\u001b[0K⠋\u001b[1G\u001b[0K⠙\u001b[1G\u001b[0K⠹\u001b[1G\u001b[0K⠸\u001b[1G\u001b[0K⠼\u001b[1G\u001b[0K⠴\u001b[1G\u001b[0K⠦\u001b[1G\u001b[0K⠧\u001b[1G\u001b[0K\n",
            "changed 641 packages in 43s\n",
            "\u001b[1G\u001b[0K⠇\u001b[1G\u001b[0K\n",
            "\u001b[1G\u001b[0K⠇\u001b[1G\u001b[0K69 packages are looking for funding\n",
            "\u001b[1G\u001b[0K⠇\u001b[1G\u001b[0K  run `npm fund` for details\n",
            "\u001b[1G\u001b[0K⠇\u001b[1G\u001b[0K"
          ]
        }
      ]
    },
    {
      "cell_type": "code",
      "source": [
        "!firebase login --no-localhost\n"
      ],
      "metadata": {
        "colab": {
          "base_uri": "https://localhost:8080/"
        },
        "id": "z7twrsOegb9T",
        "outputId": "4dcd57da-b22a-4149-f831-c8b2bb69af1b"
      },
      "execution_count": 8,
      "outputs": [
        {
          "output_type": "stream",
          "name": "stdout",
          "text": [
            "\u001b[36m\u001b[1mi \u001b[22m\u001b[39m Firebase optionally collects CLI and Emulator Suite usage and error reporting information to help improve our products. Data is collected in accordance with Google's privacy policy (https://policies.google.com/privacy) and is not used to identify you.\n",
            "\n",
            "\u001b[32m?\u001b[39m \u001b[1mAllow Firebase to collect CLI and Emulator Suite usage and error reporting \u001b[22m\n",
            "\u001b[1minformation?\u001b[22m\u001b[0m \u001b[0m\u001b[2m(Y/n) \u001b[22m\u001b[1A\u001b[19D\u001b[96C\u001b[1B\u001b[2K\u001b[1A\u001b[2K\u001b[G\u001b[32m?\u001b[39m \u001b[1mAllow Firebase to collect CLI and Emulator Suite usage and error reporting \u001b[22m\n",
            "\u001b[1minformation?\u001b[22m\u001b[0m \u001b[0m\u001b[2m(Y/n) \u001b[22mY\u001b[1A\u001b[20D\u001b[97C\u001b[1B\u001b[2K\u001b[1A\u001b[2K\u001b[G\u001b[32m?\u001b[39m \u001b[1mAllow Firebase to collect CLI and Emulator Suite usage and error reporting \u001b[22m\n",
            "\u001b[1minformation?\u001b[22m\u001b[0m \u001b[0m\u001b[36mYes\u001b[39m\u001b[1A\u001b[16D\u001b[93C\n",
            "\u001b[1B\u001b[36m\u001b[1mi \u001b[22m\u001b[39m To change your data collection preference at any time, run `firebase logout` and log in again.\n",
            "\n",
            "To sign in to the Firebase CLI:\n",
            "\n",
            "1. Take note of your session ID:\n",
            "\n",
            "   \u001b[1m18D77\u001b[22m\n",
            "\n",
            "2. Visit the URL below on any device and follow the instructions to get your code:\n",
            "\n",
            "   https://auth.firebase.tools/login?code_challenge=NQaQs5uxSAvoEjGPADfBFur-Bw03IhkWq7CFc0CFLww&session=18d77b11-05ed-4824-b121-7733c270f4c8&attest=Z19Y8vh68CS1bXH2QMjRMfXCbiXfVyEP2pTMEvxpjJs\n",
            "\n",
            "3. Paste or enter the authorization code below once you have it:\n",
            "\n",
            "\u001b[32m?\u001b[39m \u001b[1mEnter authorization code:\u001b[22m\u001b[0m \u001b[0m\u001b[28D\u001b[28C\u001b[2K\u001b[G\u001b[32m?\u001b[39m \u001b[1mEnter authorization code:\u001b[22m\u001b[0m \u001b[0m\u001b[28D\u001b[28C\n",
            "\n",
            "\u001b[1m\u001b[31mError:\u001b[39m\u001b[22m Unable to authenticate using the provided code. Please try again.\n"
          ]
        }
      ]
    },
    {
      "cell_type": "code",
      "source": [
        "!firebase login --no-localhost\n"
      ],
      "metadata": {
        "colab": {
          "base_uri": "https://localhost:8080/"
        },
        "id": "D5NIfGNogvTV",
        "outputId": "fe862703-b8af-4e85-df0d-0ae9c532d794"
      },
      "execution_count": 9,
      "outputs": [
        {
          "output_type": "stream",
          "name": "stdout",
          "text": [
            "\u001b[36m\u001b[1mi \u001b[22m\u001b[39m Firebase optionally collects CLI and Emulator Suite usage and error reporting information to help improve our products. Data is collected in accordance with Google's privacy policy (https://policies.google.com/privacy) and is not used to identify you.\n",
            "\n",
            "\u001b[32m?\u001b[39m \u001b[1mAllow Firebase to collect CLI and Emulator Suite usage and error reporting \u001b[22m\n",
            "\u001b[1minformation?\u001b[22m\u001b[0m \u001b[0m\u001b[2m(Y/n) \u001b[22m\u001b[1A\u001b[19D\u001b[96C\u001b[1B\u001b[2K\u001b[1A\u001b[2K\u001b[G\u001b[32m?\u001b[39m \u001b[1mAllow Firebase to collect CLI and Emulator Suite usage and error reporting \u001b[22m\n",
            "\u001b[1minformation?\u001b[22m\u001b[0m \u001b[0m\u001b[2m(Y/n) \u001b[22mn\u001b[1A\u001b[20D\u001b[97C\u001b[1B\u001b[2K\u001b[1A\u001b[2K\u001b[G\u001b[32m?\u001b[39m \u001b[1mAllow Firebase to collect CLI and Emulator Suite usage and error reporting \u001b[22m\n",
            "\u001b[1minformation?\u001b[22m\u001b[0m \u001b[0m\u001b[36mNo\u001b[39m\u001b[1A\u001b[15D\u001b[92C\n",
            "\u001b[1B\n",
            "To sign in to the Firebase CLI:\n",
            "\n",
            "1. Take note of your session ID:\n",
            "\n",
            "   \u001b[1m63DF0\u001b[22m\n",
            "\n",
            "2. Visit the URL below on any device and follow the instructions to get your code:\n",
            "\n",
            "   https://auth.firebase.tools/login?code_challenge=3WoJvETbU-dePx7N2yeeTlOlbEnfv-ZqnV8gYzyXhvc&session=63df0c30-5696-4860-8b9b-68544117570c&attest=XKe4djGLqjUOL8rDKqfYoKPSHd2AOtpfwmyTSfO317g\n",
            "\n",
            "3. Paste or enter the authorization code below once you have it:\n",
            "\n",
            "\u001b[32m?\u001b[39m \u001b[1mEnter authorization code:\u001b[22m\u001b[0m \u001b[0m\u001b[28D\u001b[28C\u001b[2K\u001b[G\u001b[32m?\u001b[39m \u001b[1mEnter authorization code:\u001b[22m\u001b[0m \u001b[0m4\u001b[29D\u001b[29C\u001b[2K\u001b[G\u001b[32m?\u001b[39m \u001b[1mEnter authorization code:\u001b[22m\u001b[0m \u001b[0m4/\u001b[30D\u001b[30C\u001b[2K\u001b[G\u001b[32m?\u001b[39m \u001b[1mEnter authorization code:\u001b[22m\u001b[0m \u001b[0m4/0\u001b[31D\u001b[31C\u001b[2K\u001b[G\u001b[32m?\u001b[39m \u001b[1mEnter authorization code:\u001b[22m\u001b[0m \u001b[0m4/0A\u001b[32D\u001b[32C\u001b[2K\u001b[G\u001b[32m?\u001b[39m \u001b[1mEnter authorization code:\u001b[22m\u001b[0m \u001b[0m4/0Ae\u001b[33D\u001b[33C\u001b[2K\u001b[G\u001b[32m?\u001b[39m \u001b[1mEnter authorization code:\u001b[22m\u001b[0m \u001b[0m4/0Aea\u001b[34D\u001b[34C\u001b[2K\u001b[G\u001b[32m?\u001b[39m \u001b[1mEnter authorization code:\u001b[22m\u001b[0m \u001b[0m4/0Aean\u001b[35D\u001b[35C\u001b[2K\u001b[G\u001b[32m?\u001b[39m \u001b[1mEnter authorization code:\u001b[22m\u001b[0m \u001b[0m4/0AeanS\u001b[36D\u001b[36C\u001b[2K\u001b[G\u001b[32m?\u001b[39m \u001b[1mEnter authorization code:\u001b[22m\u001b[0m \u001b[0m4/0AeanS0\u001b[37D\u001b[37C\u001b[2K\u001b[G\u001b[32m?\u001b[39m \u001b[1mEnter authorization code:\u001b[22m\u001b[0m \u001b[0m4/0AeanS0Y\u001b[38D\u001b[38C\u001b[2K\u001b[G\u001b[32m?\u001b[39m \u001b[1mEnter authorization code:\u001b[22m\u001b[0m \u001b[0m4/0AeanS0YU\u001b[39D\u001b[39C\u001b[2K\u001b[G\u001b[32m?\u001b[39m \u001b[1mEnter authorization code:\u001b[22m\u001b[0m \u001b[0m4/0AeanS0YUD\u001b[40D\u001b[40C\u001b[2K\u001b[G\u001b[32m?\u001b[39m \u001b[1mEnter authorization code:\u001b[22m\u001b[0m \u001b[0m4/0AeanS0YUDM\u001b[41D\u001b[41C\u001b[2K\u001b[G\u001b[32m?\u001b[39m \u001b[1mEnter authorization code:\u001b[22m\u001b[0m \u001b[0m4/0AeanS0YUDM5\u001b[42D\u001b[42C\u001b[2K\u001b[G\u001b[32m?\u001b[39m \u001b[1mEnter authorization code:\u001b[22m\u001b[0m \u001b[0m4/0AeanS0YUDM5q\u001b[43D\u001b[43C\u001b[2K\u001b[G\u001b[32m?\u001b[39m \u001b[1mEnter authorization code:\u001b[22m\u001b[0m \u001b[0m4/0AeanS0YUDM5qU\u001b[44D\u001b[44C\u001b[2K\u001b[G\u001b[32m?\u001b[39m \u001b[1mEnter authorization code:\u001b[22m\u001b[0m \u001b[0m4/0AeanS0YUDM5qUB\u001b[45D\u001b[45C\u001b[2K\u001b[G\u001b[32m?\u001b[39m \u001b[1mEnter authorization code:\u001b[22m\u001b[0m \u001b[0m4/0AeanS0YUDM5qUBQ\u001b[46D\u001b[46C\u001b[2K\u001b[G\u001b[32m?\u001b[39m \u001b[1mEnter authorization code:\u001b[22m\u001b[0m \u001b[0m4/0AeanS0YUDM5qUBQG\u001b[47D\u001b[47C\u001b[2K\u001b[G\u001b[32m?\u001b[39m \u001b[1mEnter authorization code:\u001b[22m\u001b[0m \u001b[0m4/0AeanS0YUDM5qUBQGa\u001b[48D\u001b[48C\u001b[2K\u001b[G\u001b[32m?\u001b[39m \u001b[1mEnter authorization code:\u001b[22m\u001b[0m \u001b[0m4/0AeanS0YUDM5qUBQGaH\u001b[49D\u001b[49C\u001b[2K\u001b[G\u001b[32m?\u001b[39m \u001b[1mEnter authorization code:\u001b[22m\u001b[0m \u001b[0m4/0AeanS0YUDM5qUBQGaH1\u001b[50D\u001b[50C\u001b[2K\u001b[G\u001b[32m?\u001b[39m \u001b[1mEnter authorization code:\u001b[22m\u001b[0m \u001b[0m4/0AeanS0YUDM5qUBQGaH1h\u001b[51D\u001b[51C\u001b[2K\u001b[G\u001b[32m?\u001b[39m \u001b[1mEnter authorization code:\u001b[22m\u001b[0m \u001b[0m4/0AeanS0YUDM5qUBQGaH1hx\u001b[52D\u001b[52C\u001b[2K\u001b[G\u001b[32m?\u001b[39m \u001b[1mEnter authorization code:\u001b[22m\u001b[0m \u001b[0m4/0AeanS0YUDM5qUBQGaH1hxu\u001b[53D\u001b[53C\u001b[2K\u001b[G\u001b[32m?\u001b[39m \u001b[1mEnter authorization code:\u001b[22m\u001b[0m \u001b[0m4/0AeanS0YUDM5qUBQGaH1hxuT\u001b[54D\u001b[54C\u001b[2K\u001b[G\u001b[32m?\u001b[39m \u001b[1mEnter authorization code:\u001b[22m\u001b[0m \u001b[0m4/0AeanS0YUDM5qUBQGaH1hxuT2\u001b[55D\u001b[55C\u001b[2K\u001b[G\u001b[32m?\u001b[39m \u001b[1mEnter authorization code:\u001b[22m\u001b[0m \u001b[0m4/0AeanS0YUDM5qUBQGaH1hxuT2g\u001b[56D\u001b[56C\u001b[2K\u001b[G\u001b[32m?\u001b[39m \u001b[1mEnter authorization code:\u001b[22m\u001b[0m \u001b[0m4/0AeanS0YUDM5qUBQGaH1hxuT2gK\u001b[57D\u001b[57C\u001b[2K\u001b[G\u001b[32m?\u001b[39m \u001b[1mEnter authorization code:\u001b[22m\u001b[0m \u001b[0m4/0AeanS0YUDM5qUBQGaH1hxuT2gKX\u001b[58D\u001b[58C\u001b[2K\u001b[G\u001b[32m?\u001b[39m \u001b[1mEnter authorization code:\u001b[22m\u001b[0m \u001b[0m4/0AeanS0YUDM5qUBQGaH1hxuT2gKXJ\u001b[59D\u001b[59C\u001b[2K\u001b[G\u001b[32m?\u001b[39m \u001b[1mEnter authorization code:\u001b[22m\u001b[0m \u001b[0m4/0AeanS0YUDM5qUBQGaH1hxuT2gKXJG\u001b[60D\u001b[60C\u001b[2K\u001b[G\u001b[32m?\u001b[39m \u001b[1mEnter authorization code:\u001b[22m\u001b[0m \u001b[0m4/0AeanS0YUDM5qUBQGaH1hxuT2gKXJGE\u001b[61D\u001b[61C\u001b[2K\u001b[G\u001b[32m?\u001b[39m \u001b[1mEnter authorization code:\u001b[22m\u001b[0m \u001b[0m4/0AeanS0YUDM5qUBQGaH1hxuT2gKXJGEW\u001b[62D\u001b[62C\u001b[2K\u001b[G\u001b[32m?\u001b[39m \u001b[1mEnter authorization code:\u001b[22m\u001b[0m \u001b[0m4/0AeanS0YUDM5qUBQGaH1hxuT2gKXJGEWb\u001b[63D\u001b[63C\u001b[2K\u001b[G\u001b[32m?\u001b[39m \u001b[1mEnter authorization code:\u001b[22m\u001b[0m \u001b[0m4/0AeanS0YUDM5qUBQGaH1hxuT2gKXJGEWbo\u001b[64D\u001b[64C\u001b[2K\u001b[G\u001b[32m?\u001b[39m \u001b[1mEnter authorization code:\u001b[22m\u001b[0m \u001b[0m4/0AeanS0YUDM5qUBQGaH1hxuT2gKXJGEWboL\u001b[65D\u001b[65C\u001b[2K\u001b[G\u001b[32m?\u001b[39m \u001b[1mEnter authorization code:\u001b[22m\u001b[0m \u001b[0m4/0AeanS0YUDM5qUBQGaH1hxuT2gKXJGEWboLF\u001b[66D\u001b[66C\u001b[2K\u001b[G\u001b[32m?\u001b[39m \u001b[1mEnter authorization code:\u001b[22m\u001b[0m \u001b[0m4/0AeanS0YUDM5qUBQGaH1hxuT2gKXJGEWboLF3\u001b[67D\u001b[67C\u001b[2K\u001b[G\u001b[32m?\u001b[39m \u001b[1mEnter authorization code:\u001b[22m\u001b[0m \u001b[0m4/0AeanS0YUDM5qUBQGaH1hxuT2gKXJGEWboLF3b\u001b[68D\u001b[68C\u001b[2K\u001b[G\u001b[32m?\u001b[39m \u001b[1mEnter authorization code:\u001b[22m\u001b[0m \u001b[0m4/0AeanS0YUDM5qUBQGaH1hxuT2gKXJGEWboLF3bH\u001b[69D\u001b[69C\u001b[2K\u001b[G\u001b[32m?\u001b[39m \u001b[1mEnter authorization code:\u001b[22m\u001b[0m \u001b[0m4/0AeanS0YUDM5qUBQGaH1hxuT2gKXJGEWboLF3bHt\u001b[70D\u001b[70C\u001b[2K\u001b[G\u001b[32m?\u001b[39m \u001b[1mEnter authorization code:\u001b[22m\u001b[0m \u001b[0m4/0AeanS0YUDM5qUBQGaH1hxuT2gKXJGEWboLF3bHt-\u001b[71D\u001b[71C\u001b[2K\u001b[G\u001b[32m?\u001b[39m \u001b[1mEnter authorization code:\u001b[22m\u001b[0m \u001b[0m4/0AeanS0YUDM5qUBQGaH1hxuT2gKXJGEWboLF3bHt-y\u001b[72D\u001b[72C\u001b[2K\u001b[G\u001b[32m?\u001b[39m \u001b[1mEnter authorization code:\u001b[22m\u001b[0m \u001b[0m4/0AeanS0YUDM5qUBQGaH1hxuT2gKXJGEWboLF3bHt-yr\u001b[73D\u001b[73C\u001b[2K\u001b[G\u001b[32m?\u001b[39m \u001b[1mEnter authorization code:\u001b[22m\u001b[0m \u001b[0m4/0AeanS0YUDM5qUBQGaH1hxuT2gKXJGEWboLF3bHt-yr8\u001b[74D\u001b[74C\u001b[2K\u001b[G\u001b[32m?\u001b[39m \u001b[1mEnter authorization code:\u001b[22m\u001b[0m \u001b[0m4/0AeanS0YUDM5qUBQGaH1hxuT2gKXJGEWboLF3bHt-yr8V\u001b[75D\u001b[75C\u001b[2K\u001b[G\u001b[32m?\u001b[39m \u001b[1mEnter authorization code:\u001b[22m\u001b[0m \u001b[0m4/0AeanS0YUDM5qUBQGaH1hxuT2gKXJGEWboLF3bHt-yr8V-\u001b[76D\u001b[76C\u001b[2K\u001b[G\u001b[32m?\u001b[39m \u001b[1mEnter authorization code:\u001b[22m\u001b[0m \u001b[0m4/0AeanS0YUDM5qUBQGaH1hxuT2gKXJGEWboLF3bHt-yr8V-q\u001b[77D\u001b[77C\u001b[2K\u001b[G\u001b[32m?\u001b[39m \u001b[1mEnter authorization code:\u001b[22m\u001b[0m \u001b[0m4/0AeanS0YUDM5qUBQGaH1hxuT2gKXJGEWboLF3bHt-yr8V-qu\u001b[78D\u001b[78C\u001b[2K\u001b[G\u001b[32m?\u001b[39m \u001b[1mEnter authorization code:\u001b[22m\u001b[0m \u001b[0m4/0AeanS0YUDM5qUBQGaH1hxuT2gKXJGEWboLF3bHt-yr8V-qu-\u001b[79D\u001b[79C\u001b[2K\u001b[G\u001b[32m?\u001b[39m \u001b[1mEnter authorization code:\u001b[22m\u001b[0m \u001b[0m4/0AeanS0YUDM5qUBQGaH1hxuT2gKXJGEWboLF3bHt-yr8V-qu-5\n",
            "\u001b[1A\u001b[0D\u001b[80C\u001b[1B\u001b[2K\u001b[1A\u001b[2K\u001b[G\u001b[32m?\u001b[39m \u001b[1mEnter authorization code:\u001b[22m\u001b[0m \n",
            "\u001b[0m4/0AeanS0YUDM5qUBQGaH1hxuT2gKXJGEWboLF3bHt-yr8V-qu-5F\u001b[1A\u001b[53D\u001b[81C\u001b[1B\u001b[2K\u001b[1A\u001b[2K\u001b[G\u001b[32m?\u001b[39m \u001b[1mEnter authorization code:\u001b[22m\u001b[0m \n",
            "\u001b[0m4/0AeanS0YUDM5qUBQGaH1hxuT2gKXJGEWboLF3bHt-yr8V-qu-5Fo\u001b[1A\u001b[54D\u001b[82C\u001b[1B\u001b[2K\u001b[1A\u001b[2K\u001b[G\u001b[32m?\u001b[39m \u001b[1mEnter authorization code:\u001b[22m\u001b[0m \n",
            "\u001b[0m4/0AeanS0YUDM5qUBQGaH1hxuT2gKXJGEWboLF3bHt-yr8V-qu-5Foj\u001b[1A\u001b[55D\u001b[83C\u001b[1B\u001b[2K\u001b[1A\u001b[2K\u001b[G\u001b[32m?\u001b[39m \u001b[1mEnter authorization code:\u001b[22m\u001b[0m \n",
            "\u001b[0m4/0AeanS0YUDM5qUBQGaH1hxuT2gKXJGEWboLF3bHt-yr8V-qu-5FojG\u001b[1A\u001b[56D\u001b[84C\u001b[1B\u001b[2K\u001b[1A\u001b[2K\u001b[G\u001b[32m?\u001b[39m \u001b[1mEnter authorization code:\u001b[22m\u001b[0m \n",
            "\u001b[0m4/0AeanS0YUDM5qUBQGaH1hxuT2gKXJGEWboLF3bHt-yr8V-qu-5FojGg\u001b[1A\u001b[57D\u001b[85C\u001b[1B\u001b[2K\u001b[1A\u001b[2K\u001b[G\u001b[32m?\u001b[39m \u001b[1mEnter authorization code:\u001b[22m\u001b[0m \n",
            "\u001b[0m4/0AeanS0YUDM5qUBQGaH1hxuT2gKXJGEWboLF3bHt-yr8V-qu-5FojGgX\u001b[1A\u001b[58D\u001b[86C\u001b[1B\u001b[2K\u001b[1A\u001b[2K\u001b[G\u001b[32m?\u001b[39m \u001b[1mEnter authorization code:\u001b[22m\u001b[0m \n",
            "\u001b[0m4/0AeanS0YUDM5qUBQGaH1hxuT2gKXJGEWboLF3bHt-yr8V-qu-5FojGgXU\u001b[1A\u001b[59D\u001b[87C\u001b[1B\u001b[2K\u001b[1A\u001b[2K\u001b[G\u001b[32m?\u001b[39m \u001b[1mEnter authorization code:\u001b[22m\u001b[0m \n",
            "\u001b[0m4/0AeanS0YUDM5qUBQGaH1hxuT2gKXJGEWboLF3bHt-yr8V-qu-5FojGgXUi\u001b[1A\u001b[60D\u001b[88C\u001b[1B\u001b[2K\u001b[1A\u001b[2K\u001b[G\u001b[32m?\u001b[39m \u001b[1mEnter authorization code:\u001b[22m\u001b[0m \n",
            "\u001b[0m4/0AeanS0YUDM5qUBQGaH1hxuT2gKXJGEWboLF3bHt-yr8V-qu-5FojGgXUim\u001b[1A\u001b[61D\u001b[89C\u001b[1B\u001b[2K\u001b[1A\u001b[2K\u001b[G\u001b[32m?\u001b[39m \u001b[1mEnter authorization code:\u001b[22m\u001b[0m \n",
            "\u001b[0m4/0AeanS0YUDM5qUBQGaH1hxuT2gKXJGEWboLF3bHt-yr8V-qu-5FojGgXUimL\u001b[1A\u001b[62D\u001b[90C\u001b[1B\u001b[2K\u001b[1A\u001b[2K\u001b[G\u001b[32m?\u001b[39m \u001b[1mEnter authorization code:\u001b[22m\u001b[0m \n",
            "\u001b[0m4/0AeanS0YUDM5qUBQGaH1hxuT2gKXJGEWboLF3bHt-yr8V-qu-5FojGgXUimLN\u001b[1A\u001b[63D\u001b[91C\u001b[1B\u001b[2K\u001b[1A\u001b[2K\u001b[G\u001b[32m?\u001b[39m \u001b[1mEnter authorization code:\u001b[22m\u001b[0m \n",
            "\u001b[0m4/0AeanS0YUDM5qUBQGaH1hxuT2gKXJGEWboLF3bHt-yr8V-qu-5FojGgXUimLNS\u001b[1A\u001b[64D\u001b[92C\u001b[1B\u001b[2K\u001b[1A\u001b[2K\u001b[G\u001b[32m?\u001b[39m \u001b[1mEnter authorization code:\u001b[22m\u001b[0m \n",
            "\u001b[0m4/0AeanS0YUDM5qUBQGaH1hxuT2gKXJGEWboLF3bHt-yr8V-qu-5FojGgXUimLNSG\u001b[1A\u001b[65D\u001b[93C\u001b[1B\u001b[2K\u001b[1A\u001b[2K\u001b[G\u001b[32m?\u001b[39m \u001b[1mEnter authorization code:\u001b[22m\u001b[0m \n",
            "\u001b[0m4/0AeanS0YUDM5qUBQGaH1hxuT2gKXJGEWboLF3bHt-yr8V-qu-5FojGgXUimLNSGJ\u001b[1A\u001b[66D\u001b[94C\u001b[1B\u001b[2K\u001b[1A\u001b[2K\u001b[G\u001b[32m?\u001b[39m \u001b[1mEnter authorization code:\u001b[22m\u001b[0m \n",
            "\u001b[0m4/0AeanS0YUDM5qUBQGaH1hxuT2gKXJGEWboLF3bHt-yr8V-qu-5FojGgXUimLNSGJ_\u001b[1A\u001b[67D\u001b[95C\u001b[1B\u001b[2K\u001b[1A\u001b[2K\u001b[G\u001b[32m?\u001b[39m \u001b[1mEnter authorization code:\u001b[22m\u001b[0m \n",
            "\u001b[0m4/0AeanS0YUDM5qUBQGaH1hxuT2gKXJGEWboLF3bHt-yr8V-qu-5FojGgXUimLNSGJ_-\u001b[1A\u001b[68D\u001b[96C\u001b[1B\u001b[2K\u001b[1A\u001b[2K\u001b[G\u001b[32m?\u001b[39m \u001b[1mEnter authorization code:\u001b[22m\u001b[0m \n",
            "\u001b[0m4/0AeanS0YUDM5qUBQGaH1hxuT2gKXJGEWboLF3bHt-yr8V-qu-5FojGgXUimLNSGJ_-2\u001b[1A\u001b[69D\u001b[97C\u001b[1B\u001b[2K\u001b[1A\u001b[2K\u001b[G\u001b[32m?\u001b[39m \u001b[1mEnter authorization code:\u001b[22m\u001b[0m \n",
            "\u001b[0m4/0AeanS0YUDM5qUBQGaH1hxuT2gKXJGEWboLF3bHt-yr8V-qu-5FojGgXUimLNSGJ_-2Q\u001b[1A\u001b[70D\u001b[98C\u001b[1B\u001b[2K\u001b[1A\u001b[2K\u001b[G\u001b[32m?\u001b[39m \u001b[1mEnter authorization code:\u001b[22m\u001b[0m \n",
            "\u001b[0m4/0AeanS0YUDM5qUBQGaH1hxuT2gKXJGEWboLF3bHt-yr8V-qu-5FojGgXUimLNSGJ_-2Q-\u001b[1A\u001b[71D\u001b[99C\u001b[1B\u001b[2K\u001b[1A\u001b[2K\u001b[G\u001b[32m?\u001b[39m \u001b[1mEnter authorization code:\u001b[22m\u001b[0m \n",
            "\u001b[0m4/0AeanS0YUDM5qUBQGaH1hxuT2gKXJGEWboLF3bHt-yr8V-qu-5FojGgXUimLNSGJ_-2Q-Q\u001b[1A\u001b[72D\u001b[100C\u001b[1B\u001b[2K\u001b[1A\u001b[2K\u001b[G\u001b[32m?\u001b[39m \u001b[1mEnter authorization code:\u001b[22m\u001b[0m \n",
            "\u001b[0m4/0AeanS0YUDM5qUBQGaH1hxuT2gKXJGEWboLF3bHt-yr8V-qu-5FojGgXUimLNSGJ_-2Q-QQ\u001b[1A\u001b[73D\u001b[101C\u001b[1B\u001b[2K\u001b[1A\u001b[2K\u001b[G\u001b[32m?\u001b[39m \u001b[1mEnter authorization code:\u001b[22m\u001b[0m \n",
            "\u001b[0m\u001b[36m4/0AeanS0YUDM5qUBQGaH1hxuT2gKXJGEWboLF3bHt-yr8V-qu-5FojGgXUimLNSGJ_-2Q-QQ\u001b[39m\u001b[1A\u001b[73D\u001b[101C\n",
            "\u001b[1B\n",
            "\u001b[32m\u001b[1m✔ \u001b[22m\u001b[39m Success! Logged in as \u001b[1mnithyasrikc17@gmail.com\u001b[22m\n"
          ]
        }
      ]
    },
    {
      "cell_type": "code",
      "source": [
        "!firebase init hosting\n"
      ],
      "metadata": {
        "colab": {
          "base_uri": "https://localhost:8080/"
        },
        "id": "UY8T1dxzh0r-",
        "outputId": "f45e473f-6838-433a-c4c2-600d45642e35"
      },
      "execution_count": 4,
      "outputs": [
        {
          "output_type": "stream",
          "name": "stdout",
          "text": [
            "/bin/bash: line 1: firebase: command not found\n"
          ]
        }
      ]
    },
    {
      "cell_type": "code",
      "source": [
        "!firebase init hosting\n"
      ],
      "metadata": {
        "colab": {
          "base_uri": "https://localhost:8080/"
        },
        "id": "ANasrtj0llhe",
        "outputId": "47a32d3c-4b75-4be8-90d9-6d5ba556afd7"
      },
      "execution_count": 3,
      "outputs": [
        {
          "output_type": "stream",
          "name": "stdout",
          "text": [
            "/bin/bash: line 1: firebase: command not found\n"
          ]
        }
      ]
    },
    {
      "cell_type": "code",
      "source": [
        "# Ensure the public directory exists\n",
        "!mkdir -p public\n",
        "\n",
        "# Create index.html\n",
        "html_content = \"\"\"\n",
        "<!DOCTYPE html>\n",
        "<html>\n",
        "<head>\n",
        "  <title>Dynamic Website</title>\n",
        "  <link rel=\"stylesheet\" href=\"style.css\">\n",
        "</head>\n",
        "<body>\n",
        "  <h1>Welcome to My Dynamic Website</h1>\n",
        "  <p id=\"message\">Hello, World!</p>\n",
        "  <button onclick=\"changeMessage()\">Click Me</button>\n",
        "  <script src=\"app.js\"></script>\n",
        "</body>\n",
        "</html>\n",
        "\"\"\"\n",
        "\n",
        "with open('public/index.html', 'w') as f:\n",
        "    f.write(html_content)\n",
        "\n",
        "# Create style.css\n",
        "css_content = \"\"\"\n",
        "body {\n",
        "  font-family: Arial, sans-serif;\n",
        "  text-align: center;\n",
        "  background-color: #f0f0f0;\n",
        "}\n",
        "h1 {\n",
        "  color: #333;\n",
        "}\n",
        "\"\"\"\n",
        "\n",
        "with open('public/style.css', 'w') as f:\n",
        "    f.write(css_content)\n",
        "\n",
        "# Create app.js\n",
        "js_content = \"\"\"\n",
        "function changeMessage() {\n",
        "  document.getElementById('message').innerText = 'You clicked the button!';\n",
        "}\n",
        "\"\"\"\n",
        "\n",
        "with open('public/app.js', 'w') as f:\n",
        "    f.write(js_content)\n"
      ],
      "metadata": {
        "id": "tYD1aqdXiqWk"
      },
      "execution_count": 5,
      "outputs": []
    },
    {
      "cell_type": "code",
      "source": [
        "!firebase deploy --only hosting\n"
      ],
      "metadata": {
        "colab": {
          "base_uri": "https://localhost:8080/"
        },
        "id": "EVUefWBUlRoq",
        "outputId": "47eafbb7-f864-4fb2-9664-fb6b69b62277"
      },
      "execution_count": 6,
      "outputs": [
        {
          "output_type": "stream",
          "name": "stdout",
          "text": [
            "/bin/bash: line 1: firebase: command not found\n"
          ]
        }
      ]
    },
    {
      "cell_type": "code",
      "source": [
        "# Reinstall Node.js v18+ to ensure compatibility\n",
        "!curl -fsSL https://deb.nodesource.com/setup_18.x | sudo -E bash -\n",
        "!sudo apt-get install -y nodejs\n",
        "\n",
        "# Reinstall Firebase CLI\n",
        "!npm install -g firebase-tools\n"
      ],
      "metadata": {
        "colab": {
          "base_uri": "https://localhost:8080/"
        },
        "id": "yQQePwpplx3D",
        "outputId": "ce00a901-98df-456a-acc8-27b9cad0e534"
      },
      "execution_count": 8,
      "outputs": [
        {
          "output_type": "stream",
          "name": "stdout",
          "text": [
            "\u001b[38;5;79m2024-11-09 06:25:17 - Installing pre-requisites\u001b[0m\n",
            "Get:1 https://cloud.r-project.org/bin/linux/ubuntu jammy-cran40/ InRelease [3,626 B]\n",
            "Hit:2 https://developer.download.nvidia.com/compute/cuda/repos/ubuntu2204/x86_64  InRelease\n",
            "Get:3 https://r2u.stat.illinois.edu/ubuntu jammy InRelease [6,555 B]\n",
            "Hit:4 https://ppa.launchpadcontent.net/deadsnakes/ppa/ubuntu jammy InRelease\n",
            "Hit:5 https://ppa.launchpadcontent.net/graphics-drivers/ppa/ubuntu jammy InRelease\n",
            "Hit:6 https://ppa.launchpadcontent.net/ubuntugis/ppa/ubuntu jammy InRelease\n",
            "Get:7 https://r2u.stat.illinois.edu/ubuntu jammy/main all Packages [8,458 kB]\n",
            "Get:8 https://r2u.stat.illinois.edu/ubuntu jammy/main amd64 Packages [2,611 kB]\n",
            "Get:9 http://security.ubuntu.com/ubuntu jammy-security InRelease [129 kB]\n",
            "Hit:10 http://archive.ubuntu.com/ubuntu jammy InRelease\n",
            "Get:11 http://archive.ubuntu.com/ubuntu jammy-updates InRelease [128 kB]\n",
            "Get:12 http://archive.ubuntu.com/ubuntu jammy-backports InRelease [127 kB]\n",
            "Get:13 http://archive.ubuntu.com/ubuntu jammy-updates/main amd64 Packages [2,696 kB]\n",
            "Get:14 http://archive.ubuntu.com/ubuntu jammy-updates/universe amd64 Packages [1,452 kB]\n",
            "Get:15 http://archive.ubuntu.com/ubuntu jammy-updates/restricted amd64 Packages [3,353 kB]\n",
            "Fetched 19.0 MB in 12s (1,572 kB/s)\n",
            "Reading package lists... Done\n",
            "W: Skipping acquire of configured file 'main/source/Sources' as repository 'https://r2u.stat.illinois.edu/ubuntu jammy InRelease' does not seem to provide it (sources.list entry misspelt?)\n",
            "Reading package lists... Done\n",
            "Building dependency tree... Done\n",
            "Reading state information... Done\n",
            "ca-certificates is already the newest version (20240203~22.04.1).\n",
            "curl is already the newest version (7.81.0-1ubuntu1.18).\n",
            "gnupg is already the newest version (2.2.27-3ubuntu2.1).\n",
            "gnupg set to manually installed.\n",
            "The following NEW packages will be installed:\n",
            "  apt-transport-https\n",
            "0 upgraded, 1 newly installed, 0 to remove and 51 not upgraded.\n",
            "Need to get 1,510 B of archives.\n",
            "After this operation, 170 kB of additional disk space will be used.\n",
            "Get:1 http://archive.ubuntu.com/ubuntu jammy-updates/universe amd64 apt-transport-https all 2.4.13 [1,510 B]\n",
            "Fetched 1,510 B in 1s (1,089 B/s)\n",
            "Selecting previously unselected package apt-transport-https.\n",
            "(Reading database ... 123623 files and directories currently installed.)\n",
            "Preparing to unpack .../apt-transport-https_2.4.13_all.deb ...\n",
            "Unpacking apt-transport-https (2.4.13) ...\n",
            "Setting up apt-transport-https (2.4.13) ...\n",
            "Hit:1 https://cloud.r-project.org/bin/linux/ubuntu jammy-cran40/ InRelease\n",
            "Hit:2 https://developer.download.nvidia.com/compute/cuda/repos/ubuntu2204/x86_64  InRelease\n",
            "Get:3 https://deb.nodesource.com/node_18.x nodistro InRelease [12.1 kB]\n",
            "Hit:4 https://r2u.stat.illinois.edu/ubuntu jammy InRelease\n",
            "Get:5 https://deb.nodesource.com/node_18.x nodistro/main amd64 Packages [10.3 kB]\n",
            "Hit:6 https://ppa.launchpadcontent.net/deadsnakes/ppa/ubuntu jammy InRelease\n",
            "Hit:7 https://ppa.launchpadcontent.net/graphics-drivers/ppa/ubuntu jammy InRelease\n",
            "Hit:8 https://ppa.launchpadcontent.net/ubuntugis/ppa/ubuntu jammy InRelease\n",
            "Hit:9 http://security.ubuntu.com/ubuntu jammy-security InRelease\n",
            "Hit:10 http://archive.ubuntu.com/ubuntu jammy InRelease\n",
            "Hit:11 http://archive.ubuntu.com/ubuntu jammy-updates InRelease\n",
            "Hit:12 http://archive.ubuntu.com/ubuntu jammy-backports InRelease\n",
            "Fetched 22.4 kB in 1s (15.1 kB/s)\n",
            "Reading package lists... Done\n",
            "W: Skipping acquire of configured file 'main/source/Sources' as repository 'https://r2u.stat.illinois.edu/ubuntu jammy InRelease' does not seem to provide it (sources.list entry misspelt?)\n",
            "\u001b[1;34m2024-11-09 06:25:45 - Repository configured successfully.\u001b[0m\n",
            "\u001b[38;5;79m2024-11-09 06:25:45 - To install Node.js, run: apt-get install nodejs -y\u001b[0m\n",
            "\u001b[38;5;79m2024-11-09 06:25:45 - You can use N|solid Runtime as a node.js alternative\u001b[0m\n",
            "\u001b[1;32m2024-11-09 06:25:45 - To install N|solid Runtime, run: apt-get install nsolid -y \n",
            "\u001b[0m\n",
            "Reading package lists... Done\n",
            "Building dependency tree... Done\n",
            "Reading state information... Done\n",
            "The following NEW packages will be installed:\n",
            "  nodejs\n",
            "0 upgraded, 1 newly installed, 0 to remove and 51 not upgraded.\n",
            "Need to get 29.6 MB of archives.\n",
            "After this operation, 187 MB of additional disk space will be used.\n",
            "Get:1 https://deb.nodesource.com/node_18.x nodistro/main amd64 nodejs amd64 18.20.4-1nodesource1 [29.6 MB]\n",
            "Fetched 29.6 MB in 1s (54.2 MB/s)\n",
            "debconf: unable to initialize frontend: Dialog\n",
            "debconf: (No usable dialog-like program is installed, so the dialog based frontend cannot be used. at /usr/share/perl5/Debconf/FrontEnd/Dialog.pm line 78, <> line 1.)\n",
            "debconf: falling back to frontend: Readline\n",
            "debconf: unable to initialize frontend: Readline\n",
            "debconf: (This frontend requires a controlling tty.)\n",
            "debconf: falling back to frontend: Teletype\n",
            "dpkg-preconfigure: unable to re-open stdin: \n",
            "Selecting previously unselected package nodejs.\n",
            "(Reading database ... 123627 files and directories currently installed.)\n",
            "Preparing to unpack .../nodejs_18.20.4-1nodesource1_amd64.deb ...\n",
            "Unpacking nodejs (18.20.4-1nodesource1) ...\n",
            "Setting up nodejs (18.20.4-1nodesource1) ...\n",
            "Processing triggers for man-db (2.10.2-1) ...\n",
            "\u001b[1G\u001b[0K⠙\u001b[1G\u001b[0K⠹\u001b[1G\u001b[0K⠸\u001b[1G\u001b[0K⠼\u001b[1G\u001b[0K⠴\u001b[1G\u001b[0K⠦\u001b[1G\u001b[0K⠧\u001b[1G\u001b[0K⠇\u001b[1G\u001b[0K⠏\u001b[1G\u001b[0K⠋\u001b[1G\u001b[0K⠙\u001b[1G\u001b[0K⠹\u001b[1G\u001b[0K⠸\u001b[1G\u001b[0K⠼\u001b[1G\u001b[0K⠴\u001b[1G\u001b[0K⠦\u001b[1G\u001b[0K⠧\u001b[1G\u001b[0K⠇\u001b[1G\u001b[0K⠏\u001b[1G\u001b[0K⠋\u001b[1G\u001b[0K⠙\u001b[1G\u001b[0K⠹\u001b[1G\u001b[0K⠸\u001b[1G\u001b[0K⠼\u001b[1G\u001b[0K⠴\u001b[1G\u001b[0K⠦\u001b[1G\u001b[0K⠧\u001b[1G\u001b[0K⠇\u001b[1G\u001b[0K⠏\u001b[1G\u001b[0K⠋\u001b[1G\u001b[0K⠙\u001b[1G\u001b[0K⠹\u001b[1G\u001b[0K⠸\u001b[1G\u001b[0K⠼\u001b[1G\u001b[0K⠴\u001b[1G\u001b[0K⠦\u001b[1G\u001b[0K⠧\u001b[1G\u001b[0K⠇\u001b[1G\u001b[0K⠏\u001b[1G\u001b[0K⠋\u001b[1G\u001b[0K⠙\u001b[1G\u001b[0K⠹\u001b[1G\u001b[0K⠸\u001b[1G\u001b[0K⠼\u001b[1G\u001b[0K⠴\u001b[1G\u001b[0K⠦\u001b[1G\u001b[0K⠧\u001b[1G\u001b[0K⠇\u001b[1G\u001b[0K⠏\u001b[1G\u001b[0K⠋\u001b[1G\u001b[0K⠙\u001b[1G\u001b[0K⠹\u001b[1G\u001b[0K⠸\u001b[1G\u001b[0K⠼\u001b[1G\u001b[0K⠴\u001b[1G\u001b[0K⠦\u001b[1G\u001b[0K⠧\u001b[1G\u001b[0K⠇\u001b[1G\u001b[0K⠏\u001b[1G\u001b[0K⠋\u001b[1G\u001b[0K⠙\u001b[1G\u001b[0K⠹\u001b[1G\u001b[0K⠸\u001b[1G\u001b[0K⠼\u001b[1G\u001b[0K⠴\u001b[1G\u001b[0K⠦\u001b[1G\u001b[0K⠧\u001b[1G\u001b[0K⠇\u001b[1G\u001b[0K⠏\u001b[1G\u001b[0K⠋\u001b[1G\u001b[0K⠙\u001b[1G\u001b[0K⠹\u001b[1G\u001b[0K⠸\u001b[1G\u001b[0K⠼\u001b[1G\u001b[0K⠴\u001b[1G\u001b[0K⠦\u001b[1G\u001b[0K⠧\u001b[1G\u001b[0K⠇\u001b[1G\u001b[0K⠏\u001b[1G\u001b[0K⠋\u001b[1G\u001b[0K⠙\u001b[1G\u001b[0K⠹\u001b[1G\u001b[0K⠸\u001b[1G\u001b[0K⠼\u001b[1G\u001b[0K⠴\u001b[1G\u001b[0K⠦\u001b[1G\u001b[0K⠧\u001b[1G\u001b[0K⠇\u001b[1G\u001b[0K⠏\u001b[1G\u001b[0K⠋\u001b[1G\u001b[0K⠙\u001b[1G\u001b[0K⠹\u001b[1G\u001b[0K⠸\u001b[1G\u001b[0K⠼\u001b[1G\u001b[0K⠴\u001b[1G\u001b[0K⠦\u001b[1G\u001b[0K⠧\u001b[1G\u001b[0K⠇\u001b[1G\u001b[0K⠏\u001b[1G\u001b[0K⠋\u001b[1G\u001b[0K⠙\u001b[1G\u001b[0K⠹\u001b[1G\u001b[0K⠸\u001b[1G\u001b[0K⠼\u001b[1G\u001b[0K⠴\u001b[1G\u001b[0K⠦\u001b[1G\u001b[0K⠧\u001b[1G\u001b[0K⠇\u001b[1G\u001b[0K⠏\u001b[1G\u001b[0K⠋\u001b[1G\u001b[0K⠙\u001b[1G\u001b[0K⠹\u001b[1G\u001b[0K⠸\u001b[1G\u001b[0K⠼\u001b[1G\u001b[0K⠴\u001b[1G\u001b[0K⠦\u001b[1G\u001b[0K⠧\u001b[1G\u001b[0K⠇\u001b[1G\u001b[0K⠏\u001b[1G\u001b[0K⠋\u001b[1G\u001b[0K⠙\u001b[1G\u001b[0K⠹\u001b[1G\u001b[0K⠸\u001b[1G\u001b[0K⠼\u001b[1G\u001b[0K⠴\u001b[1G\u001b[0K⠦\u001b[1G\u001b[0K⠧\u001b[1G\u001b[0K⠇\u001b[1G\u001b[0K⠏\u001b[1G\u001b[0K⠋\u001b[1G\u001b[0K⠙\u001b[1G\u001b[0K⠹\u001b[1G\u001b[0K⠸\u001b[1G\u001b[0K⠼\u001b[1G\u001b[0K⠴\u001b[1G\u001b[0K⠦\u001b[1G\u001b[0K⠧\u001b[1G\u001b[0K⠇\u001b[1G\u001b[0K⠏\u001b[1G\u001b[0K⠋\u001b[1G\u001b[0K⠙\u001b[1G\u001b[0K⠹\u001b[1G\u001b[0K⠸\u001b[1G\u001b[0K⠼\u001b[1G\u001b[0K⠴\u001b[1G\u001b[0K⠦\u001b[1G\u001b[0K⠧\u001b[1G\u001b[0K⠇\u001b[1G\u001b[0K⠏\u001b[1G\u001b[0K⠋\u001b[1G\u001b[0K⠙\u001b[1G\u001b[0K⠹\u001b[1G\u001b[0K⠸\u001b[1G\u001b[0K⠼\u001b[1G\u001b[0K⠴\u001b[1G\u001b[0K⠦\u001b[1G\u001b[0K⠧\u001b[1G\u001b[0K⠇\u001b[1G\u001b[0K⠏\u001b[1G\u001b[0K⠋\u001b[1G\u001b[0K⠙\u001b[1G\u001b[0K⠹\u001b[1G\u001b[0K⠸\u001b[1G\u001b[0K⠼\u001b[1G\u001b[0K⠴\u001b[1G\u001b[0K⠦\u001b[1G\u001b[0K⠧\u001b[1G\u001b[0K⠇\u001b[1G\u001b[0K⠏\u001b[1G\u001b[0K⠋\u001b[1G\u001b[0K⠙\u001b[1G\u001b[0K⠹\u001b[1G\u001b[0K⠸\u001b[1G\u001b[0K⠼\u001b[1G\u001b[0K⠴\u001b[1G\u001b[0K⠦\u001b[1G\u001b[0K⠧\u001b[1G\u001b[0K⠇\u001b[1G\u001b[0K⠏\u001b[1G\u001b[0K⠋\u001b[1G\u001b[0K⠙\u001b[1G\u001b[0K⠹\u001b[1G\u001b[0K⠸\u001b[1G\u001b[0K⠼\u001b[1G\u001b[0K⠴\u001b[1G\u001b[0K⠦\u001b[1G\u001b[0K⠧\u001b[1G\u001b[0K⠇\u001b[1G\u001b[0K⠏\u001b[1G\u001b[0K⠋\u001b[1G\u001b[0K⠙\u001b[1G\u001b[0K⠹\u001b[1G\u001b[0K⠸\u001b[1G\u001b[0K⠼\u001b[1G\u001b[0K⠴\u001b[1G\u001b[0K⠦\u001b[1G\u001b[0K⠧\u001b[1G\u001b[0K⠇\u001b[1G\u001b[0K⠏\u001b[1G\u001b[0K⠋\u001b[1G\u001b[0K⠙\u001b[1G\u001b[0K⠹\u001b[1G\u001b[0K⠸\u001b[1G\u001b[0K⠼\u001b[1G\u001b[0K⠴\u001b[1G\u001b[0K⠦\u001b[1G\u001b[0K⠧\u001b[1G\u001b[0K⠇\u001b[1G\u001b[0K⠏\u001b[1G\u001b[0K⠋\u001b[1G\u001b[0K⠙\u001b[1G\u001b[0K⠹\u001b[1G\u001b[0K⠸\u001b[1G\u001b[0K⠼\u001b[1G\u001b[0K⠴\u001b[1G\u001b[0K⠦\u001b[1G\u001b[0K⠧\u001b[1G\u001b[0K⠇\u001b[1G\u001b[0K⠏\u001b[1G\u001b[0K⠋\u001b[1G\u001b[0K⠙\u001b[1G\u001b[0K⠹\u001b[1G\u001b[0K⠸\u001b[1G\u001b[0K⠼\u001b[1G\u001b[0K⠴\u001b[1G\u001b[0K⠦\u001b[1G\u001b[0K⠧\u001b[1G\u001b[0K⠇\u001b[1G\u001b[0K⠏\u001b[1G\u001b[0K⠋\u001b[1G\u001b[0K⠙\u001b[1G\u001b[0K⠹\u001b[1G\u001b[0K⠸\u001b[1G\u001b[0K⠼\u001b[1G\u001b[0K⠴\u001b[1G\u001b[0K⠦\u001b[1G\u001b[0K⠧\u001b[1G\u001b[0K⠇\u001b[1G\u001b[0K⠏\u001b[1G\u001b[0K⠋\u001b[1G\u001b[0K⠙\u001b[1G\u001b[0K⠹\u001b[1G\u001b[0K⠸\u001b[1G\u001b[0K⠼\u001b[1G\u001b[0K⠴\u001b[1G\u001b[0K⠦\u001b[1G\u001b[0K⠧\u001b[1G\u001b[0K⠇\u001b[1G\u001b[0K⠏\u001b[1G\u001b[0K⠋\u001b[1G\u001b[0K⠙\u001b[1G\u001b[0K⠹\u001b[1G\u001b[0K⠸\u001b[1G\u001b[0K⠼\u001b[1G\u001b[0K⠴\u001b[1G\u001b[0K⠦\u001b[1G\u001b[0K⠧\u001b[1G\u001b[0K⠇\u001b[1G\u001b[0K⠏\u001b[1G\u001b[0K⠋\u001b[1G\u001b[0K⠙\u001b[1G\u001b[0K⠹\u001b[1G\u001b[0K⠸\u001b[1G\u001b[0K⠼\u001b[1G\u001b[0K⠴\u001b[1G\u001b[0K⠦\u001b[1G\u001b[0K⠧\u001b[1G\u001b[0K⠇\u001b[1G\u001b[0K⠏\u001b[1G\u001b[0K⠋\u001b[1G\u001b[0K⠙\u001b[1G\u001b[0K⠹\u001b[1G\u001b[0K⠸\u001b[1G\u001b[0K⠼\u001b[1G\u001b[0K⠴\u001b[1G\u001b[0K⠦\u001b[1G\u001b[0K⠧\u001b[1G\u001b[0K⠇\u001b[1G\u001b[0K⠏\u001b[1G\u001b[0K⠋\u001b[1G\u001b[0K⠙\u001b[1G\u001b[0K⠹\u001b[1G\u001b[0K⠸\u001b[1G\u001b[0K⠼\u001b[1G\u001b[0K⠴\u001b[1G\u001b[0K⠦\u001b[1G\u001b[0K⠧\u001b[1G\u001b[0K⠇\u001b[1G\u001b[0K⠏\u001b[1G\u001b[0K⠋\u001b[1G\u001b[0K⠙\u001b[1G\u001b[0K⠹\u001b[1G\u001b[0K⠸\u001b[1G\u001b[0K⠼\u001b[1G\u001b[0K⠴\u001b[1G\u001b[0K⠦\u001b[1G\u001b[0K⠧\u001b[1G\u001b[0K⠇\u001b[1G\u001b[0K⠏\u001b[1G\u001b[0K⠋\u001b[1G\u001b[0K⠙\u001b[1G\u001b[0K⠹\u001b[1G\u001b[0K⠸\u001b[1G\u001b[0K⠼\u001b[1G\u001b[0K⠴\u001b[1G\u001b[0K⠦\u001b[1G\u001b[0K⠧\u001b[1G\u001b[0K⠇\u001b[1G\u001b[0K⠏\u001b[1G\u001b[0K⠋\u001b[1G\u001b[0K⠙\u001b[1G\u001b[0K⠹\u001b[1G\u001b[0K⠸\u001b[1G\u001b[0K⠼\u001b[1G\u001b[0K⠴\u001b[1G\u001b[0K⠦\u001b[1G\u001b[0K⠧\u001b[1G\u001b[0K⠇\u001b[1G\u001b[0K⠏\u001b[1G\u001b[0K⠋\u001b[1G\u001b[0K⠙\u001b[1G\u001b[0K⠹\u001b[1G\u001b[0K⠸\u001b[1G\u001b[0K⠼\u001b[1G\u001b[0K⠴\u001b[1G\u001b[0K⠦\u001b[1G\u001b[0K⠧\u001b[1G\u001b[0K⠇\u001b[1G\u001b[0K⠏\u001b[1G\u001b[0K⠋\u001b[1G\u001b[0K⠙\u001b[1G\u001b[0K⠹\u001b[1G\u001b[0K⠸\u001b[1G\u001b[0K⠼\u001b[1G\u001b[0K⠴\u001b[1G\u001b[0K⠦\u001b[1G\u001b[0K⠧\u001b[1G\u001b[0K⠇\u001b[1G\u001b[0K⠏\u001b[1G\u001b[0K⠋\u001b[1G\u001b[0K⠙\u001b[1G\u001b[0K⠹\u001b[1G\u001b[0K⠸\u001b[1G\u001b[0K⠼\u001b[1G\u001b[0K⠴\u001b[1G\u001b[0K⠦\u001b[1G\u001b[0K⠧\u001b[1G\u001b[0K⠇\u001b[1G\u001b[0K⠏\u001b[1G\u001b[0K⠋\u001b[1G\u001b[0K⠙\u001b[1G\u001b[0K⠹\u001b[1G\u001b[0K⠸\u001b[1G\u001b[0K⠼\u001b[1G\u001b[0K⠴\u001b[1G\u001b[0K⠦\u001b[1G\u001b[0K⠧\u001b[1G\u001b[0K⠇\u001b[1G\u001b[0K⠏\u001b[1G\u001b[0K⠋\u001b[1G\u001b[0K⠙\u001b[1G\u001b[0K⠹\u001b[1G\u001b[0K⠸\u001b[1G\u001b[0K⠼\u001b[1G\u001b[0K⠴\u001b[1G\u001b[0K⠦\u001b[1G\u001b[0K⠧\u001b[1G\u001b[0K⠇\u001b[1G\u001b[0K⠏\u001b[1G\u001b[0K⠋\u001b[1G\u001b[0K⠙\u001b[1G\u001b[0K⠹\u001b[1G\u001b[0K⠸\u001b[1G\u001b[0K⠼\u001b[1G\u001b[0K⠴\u001b[1G\u001b[0K⠦\u001b[1G\u001b[0K⠧\u001b[1G\u001b[0K⠇\u001b[1G\u001b[0K⠏\u001b[1G\u001b[0K⠋\u001b[1G\u001b[0K⠙\u001b[1G\u001b[0K⠹\u001b[1G\u001b[0K⠸\u001b[1G\u001b[0K⠼\u001b[1G\u001b[0K⠴\u001b[1G\u001b[0K⠦\u001b[1G\u001b[0K⠧\u001b[1G\u001b[0K⠇\u001b[1G\u001b[0K⠏\u001b[1G\u001b[0K⠋\u001b[1G\u001b[0K⠙\u001b[1G\u001b[0K⠹\u001b[1G\u001b[0K⠸\u001b[1G\u001b[0K⠼\u001b[1G\u001b[0K⠴\u001b[1G\u001b[0K⠦\u001b[1G\u001b[0K⠧\u001b[1G\u001b[0K⠇\u001b[1G\u001b[0K⠏\u001b[1G\u001b[0K⠋\u001b[1G\u001b[0K⠙\u001b[1G\u001b[0K⠹\u001b[1G\u001b[0K⠸\u001b[1G\u001b[0K⠼\u001b[1G\u001b[0K⠴\u001b[1G\u001b[0K⠦\u001b[1G\u001b[0K⠧\u001b[1G\u001b[0K⠇\u001b[1G\u001b[0K⠏\u001b[1G\u001b[0K⠋\u001b[1G\u001b[0K⠙\u001b[1G\u001b[0K⠹\u001b[1G\u001b[0K⠸\u001b[1G\u001b[0K⠼\u001b[1G\u001b[0K⠴\u001b[1G\u001b[0K⠦\u001b[1G\u001b[0K⠧\u001b[1G\u001b[0K⠇\u001b[1G\u001b[0K⠏\u001b[1G\u001b[0K⠋\u001b[1G\u001b[0K⠙\u001b[1G\u001b[0K⠹\u001b[1G\u001b[0K⠸\u001b[1G\u001b[0K⠼\u001b[1G\u001b[0K⠴\u001b[1G\u001b[0K⠦\u001b[1G\u001b[0K⠧\u001b[1G\u001b[0K⠇\u001b[1G\u001b[0K⠏\u001b[1G\u001b[0K⠋\u001b[1G\u001b[0K⠙\u001b[1G\u001b[0K⠹\u001b[1G\u001b[0K⠸\u001b[1G\u001b[0K⠼\u001b[1G\u001b[0K⠴\u001b[1G\u001b[0K⠦\u001b[1G\u001b[0K⠧\u001b[1G\u001b[0K⠇\u001b[1G\u001b[0K⠏\u001b[1G\u001b[0K⠋\u001b[1G\u001b[0K⠙\u001b[1G\u001b[0K⠹\u001b[1G\u001b[0K⠸\u001b[1G\u001b[0K⠼\u001b[1G\u001b[0K⠴\u001b[1G\u001b[0K⠦\u001b[1G\u001b[0K⠧\u001b[1G\u001b[0K⠇\u001b[1G\u001b[0K⠏\u001b[1G\u001b[0K⠋\u001b[1G\u001b[0K⠙\u001b[1G\u001b[0K⠹\u001b[1G\u001b[0K⠸\u001b[1G\u001b[0K⠼\u001b[1G\u001b[0K⠴\u001b[1G\u001b[0K⠦\u001b[1G\u001b[0K⠧\u001b[1G\u001b[0K⠇\u001b[1G\u001b[0K⠏\u001b[1G\u001b[0K⠋\u001b[1G\u001b[0K⠙\u001b[1G\u001b[0K⠹\u001b[1G\u001b[0K⠸\u001b[1G\u001b[0K⠼\u001b[1G\u001b[0K⠴\u001b[1G\u001b[0K⠦\u001b[1G\u001b[0K⠧\u001b[1G\u001b[0K⠇\u001b[1G\u001b[0K⠏\u001b[1G\u001b[0K⠋\u001b[1G\u001b[0K⠙\u001b[1G\u001b[0K⠹\u001b[1G\u001b[0K⠸\u001b[1G\u001b[0K⠼\u001b[1G\u001b[0K⠴\u001b[1G\u001b[0K⠦\u001b[1G\u001b[0K⠧\u001b[1G\u001b[0K⠇\u001b[1G\u001b[0K⠏\u001b[1G\u001b[0K⠋\u001b[1G\u001b[0K⠙\u001b[1G\u001b[0K⠹\u001b[1G\u001b[0K⠸\u001b[1G\u001b[0K⠼\u001b[1G\u001b[0K⠴\u001b[1G\u001b[0K⠦\u001b[1G\u001b[0K⠧\u001b[1G\u001b[0K⠇\u001b[1G\u001b[0K⠏\u001b[1G\u001b[0K⠋\u001b[1G\u001b[0K⠙\u001b[1G\u001b[0K\n",
            "added 641 packages in 44s\n",
            "\u001b[1G\u001b[0K⠙\u001b[1G\u001b[0K\n",
            "\u001b[1G\u001b[0K⠙\u001b[1G\u001b[0K69 packages are looking for funding\n",
            "\u001b[1G\u001b[0K⠙\u001b[1G\u001b[0K  run `npm fund` for details\n",
            "\u001b[1G\u001b[0K⠙\u001b[1G\u001b[0K"
          ]
        }
      ]
    },
    {
      "cell_type": "code",
      "source": [
        "!firebase --version\n"
      ],
      "metadata": {
        "colab": {
          "base_uri": "https://localhost:8080/"
        },
        "id": "R244RnCbmSkA",
        "outputId": "904e22ed-053f-4330-c624-e40dd46a3d04"
      },
      "execution_count": 9,
      "outputs": [
        {
          "output_type": "stream",
          "name": "stdout",
          "text": [
            "13.24.2\n"
          ]
        }
      ]
    },
    {
      "cell_type": "code",
      "source": [
        "!firebase login --no-localhost\n"
      ],
      "metadata": {
        "colab": {
          "base_uri": "https://localhost:8080/"
        },
        "id": "hTVYA4Nxmsyv",
        "outputId": "6e0ebb5e-ee82-44d9-a897-eff39cf8863f"
      },
      "execution_count": 10,
      "outputs": [
        {
          "output_type": "stream",
          "name": "stdout",
          "text": [
            "\u001b[36m\u001b[1mi \u001b[22m\u001b[39m Firebase optionally collects CLI and Emulator Suite usage and error reporting information to help improve our products. Data is collected in accordance with Google's privacy policy (https://policies.google.com/privacy) and is not used to identify you.\n",
            "\n",
            "\u001b[32m?\u001b[39m \u001b[1mAllow Firebase to collect CLI and Emulator Suite usage and error reporting \u001b[22m\n",
            "\u001b[1minformation?\u001b[22m\u001b[0m \u001b[0m\u001b[2m(Y/n) \u001b[22m\u001b[1A\u001b[19D\u001b[96C\u001b[1B\u001b[2K\u001b[1A\u001b[2K\u001b[G\u001b[32m?\u001b[39m \u001b[1mAllow Firebase to collect CLI and Emulator Suite usage and error reporting \u001b[22m\n",
            "\u001b[1minformation?\u001b[22m\u001b[0m \u001b[0m\u001b[2m(Y/n) \u001b[22mY\u001b[1A\u001b[20D\u001b[97C\u001b[1B\u001b[2K\u001b[1A\u001b[2K\u001b[G\u001b[32m?\u001b[39m \u001b[1mAllow Firebase to collect CLI and Emulator Suite usage and error reporting \u001b[22m\n",
            "\u001b[1minformation?\u001b[22m\u001b[0m \u001b[0m\u001b[36mYes\u001b[39m\u001b[1A\u001b[16D\u001b[93C\n",
            "\u001b[1B\u001b[36m\u001b[1mi \u001b[22m\u001b[39m To change your data collection preference at any time, run `firebase logout` and log in again.\n",
            "\n",
            "To sign in to the Firebase CLI:\n",
            "\n",
            "1. Take note of your session ID:\n",
            "\n",
            "   \u001b[1m40227\u001b[22m\n",
            "\n",
            "2. Visit the URL below on any device and follow the instructions to get your code:\n",
            "\n",
            "   https://auth.firebase.tools/login?code_challenge=MEDTCmCfQXC9a4XDU1_NnS2yn0ECfK0t7b6for0XRGM&session=40227935-d6be-43ec-958a-eff792859909&attest=WaN3JEXLsfAX8qx6MVXS4VMT46SgEbIGSByqbLFpSdA\n",
            "\n",
            "3. Paste or enter the authorization code below once you have it:\n",
            "\n",
            "\u001b[32m?\u001b[39m \u001b[1mEnter authorization code:\u001b[22m\u001b[0m \u001b[0m\u001b[28D\u001b[28C\u001b[2K\u001b[G\u001b[32m?\u001b[39m \u001b[1mEnter authorization code:\u001b[22m\u001b[0m \u001b[0m4\u001b[29D\u001b[29C\u001b[2K\u001b[G\u001b[32m?\u001b[39m \u001b[1mEnter authorization code:\u001b[22m\u001b[0m \u001b[0m4/\u001b[30D\u001b[30C\u001b[2K\u001b[G\u001b[32m?\u001b[39m \u001b[1mEnter authorization code:\u001b[22m\u001b[0m \u001b[0m4/0\u001b[31D\u001b[31C\u001b[2K\u001b[G\u001b[32m?\u001b[39m \u001b[1mEnter authorization code:\u001b[22m\u001b[0m \u001b[0m4/0A\u001b[32D\u001b[32C\u001b[2K\u001b[G\u001b[32m?\u001b[39m \u001b[1mEnter authorization code:\u001b[22m\u001b[0m \u001b[0m4/0AV\u001b[33D\u001b[33C\u001b[2K\u001b[G\u001b[32m?\u001b[39m \u001b[1mEnter authorization code:\u001b[22m\u001b[0m \u001b[0m4/0AVG\u001b[34D\u001b[34C\u001b[2K\u001b[G\u001b[32m?\u001b[39m \u001b[1mEnter authorization code:\u001b[22m\u001b[0m \u001b[0m4/0AVG7\u001b[35D\u001b[35C\u001b[2K\u001b[G\u001b[32m?\u001b[39m \u001b[1mEnter authorization code:\u001b[22m\u001b[0m \u001b[0m4/0AVG7f\u001b[36D\u001b[36C\u001b[2K\u001b[G\u001b[32m?\u001b[39m \u001b[1mEnter authorization code:\u001b[22m\u001b[0m \u001b[0m4/0AVG7fi\u001b[37D\u001b[37C\u001b[2K\u001b[G\u001b[32m?\u001b[39m \u001b[1mEnter authorization code:\u001b[22m\u001b[0m \u001b[0m4/0AVG7fiR\u001b[38D\u001b[38C\u001b[2K\u001b[G\u001b[32m?\u001b[39m \u001b[1mEnter authorization code:\u001b[22m\u001b[0m \u001b[0m4/0AVG7fiRh\u001b[39D\u001b[39C\u001b[2K\u001b[G\u001b[32m?\u001b[39m \u001b[1mEnter authorization code:\u001b[22m\u001b[0m \u001b[0m4/0AVG7fiRhW\u001b[40D\u001b[40C\u001b[2K\u001b[G\u001b[32m?\u001b[39m \u001b[1mEnter authorization code:\u001b[22m\u001b[0m \u001b[0m4/0AVG7fiRhWF\u001b[41D\u001b[41C\u001b[2K\u001b[G\u001b[32m?\u001b[39m \u001b[1mEnter authorization code:\u001b[22m\u001b[0m \u001b[0m4/0AVG7fiRhWFb\u001b[42D\u001b[42C\u001b[2K\u001b[G\u001b[32m?\u001b[39m \u001b[1mEnter authorization code:\u001b[22m\u001b[0m \u001b[0m4/0AVG7fiRhWFbR\u001b[43D\u001b[43C\u001b[2K\u001b[G\u001b[32m?\u001b[39m \u001b[1mEnter authorization code:\u001b[22m\u001b[0m \u001b[0m4/0AVG7fiRhWFbR4\u001b[44D\u001b[44C\u001b[2K\u001b[G\u001b[32m?\u001b[39m \u001b[1mEnter authorization code:\u001b[22m\u001b[0m \u001b[0m4/0AVG7fiRhWFbR4W\u001b[45D\u001b[45C\u001b[2K\u001b[G\u001b[32m?\u001b[39m \u001b[1mEnter authorization code:\u001b[22m\u001b[0m \u001b[0m4/0AVG7fiRhWFbR4Wt\u001b[46D\u001b[46C\u001b[2K\u001b[G\u001b[32m?\u001b[39m \u001b[1mEnter authorization code:\u001b[22m\u001b[0m \u001b[0m4/0AVG7fiRhWFbR4Wtp\u001b[47D\u001b[47C\u001b[2K\u001b[G\u001b[32m?\u001b[39m \u001b[1mEnter authorization code:\u001b[22m\u001b[0m \u001b[0m4/0AVG7fiRhWFbR4Wtpr\u001b[48D\u001b[48C\u001b[2K\u001b[G\u001b[32m?\u001b[39m \u001b[1mEnter authorization code:\u001b[22m\u001b[0m \u001b[0m4/0AVG7fiRhWFbR4Wtpr3\u001b[49D\u001b[49C\u001b[2K\u001b[G\u001b[32m?\u001b[39m \u001b[1mEnter authorization code:\u001b[22m\u001b[0m \u001b[0m4/0AVG7fiRhWFbR4Wtpr3N\u001b[50D\u001b[50C\u001b[2K\u001b[G\u001b[32m?\u001b[39m \u001b[1mEnter authorization code:\u001b[22m\u001b[0m \u001b[0m4/0AVG7fiRhWFbR4Wtpr3Nt\u001b[51D\u001b[51C\u001b[2K\u001b[G\u001b[32m?\u001b[39m \u001b[1mEnter authorization code:\u001b[22m\u001b[0m \u001b[0m4/0AVG7fiRhWFbR4Wtpr3Nt7\u001b[52D\u001b[52C\u001b[2K\u001b[G\u001b[32m?\u001b[39m \u001b[1mEnter authorization code:\u001b[22m\u001b[0m \u001b[0m4/0AVG7fiRhWFbR4Wtpr3Nt73\u001b[53D\u001b[53C\u001b[2K\u001b[G\u001b[32m?\u001b[39m \u001b[1mEnter authorization code:\u001b[22m\u001b[0m \u001b[0m4/0AVG7fiRhWFbR4Wtpr3Nt73n\u001b[54D\u001b[54C\u001b[2K\u001b[G\u001b[32m?\u001b[39m \u001b[1mEnter authorization code:\u001b[22m\u001b[0m \u001b[0m4/0AVG7fiRhWFbR4Wtpr3Nt73nT\u001b[55D\u001b[55C\u001b[2K\u001b[G\u001b[32m?\u001b[39m \u001b[1mEnter authorization code:\u001b[22m\u001b[0m \u001b[0m4/0AVG7fiRhWFbR4Wtpr3Nt73nTO\u001b[56D\u001b[56C\u001b[2K\u001b[G\u001b[32m?\u001b[39m \u001b[1mEnter authorization code:\u001b[22m\u001b[0m \u001b[0m4/0AVG7fiRhWFbR4Wtpr3Nt73nTOC\u001b[57D\u001b[57C\u001b[2K\u001b[G\u001b[32m?\u001b[39m \u001b[1mEnter authorization code:\u001b[22m\u001b[0m \u001b[0m4/0AVG7fiRhWFbR4Wtpr3Nt73nTOCc\u001b[58D\u001b[58C\u001b[2K\u001b[G\u001b[32m?\u001b[39m \u001b[1mEnter authorization code:\u001b[22m\u001b[0m \u001b[0m4/0AVG7fiRhWFbR4Wtpr3Nt73nTOCcr\u001b[59D\u001b[59C\u001b[2K\u001b[G\u001b[32m?\u001b[39m \u001b[1mEnter authorization code:\u001b[22m\u001b[0m \u001b[0m4/0AVG7fiRhWFbR4Wtpr3Nt73nTOCcro\u001b[60D\u001b[60C\u001b[2K\u001b[G\u001b[32m?\u001b[39m \u001b[1mEnter authorization code:\u001b[22m\u001b[0m \u001b[0m4/0AVG7fiRhWFbR4Wtpr3Nt73nTOCcrox\u001b[61D\u001b[61C\u001b[2K\u001b[G\u001b[32m?\u001b[39m \u001b[1mEnter authorization code:\u001b[22m\u001b[0m \u001b[0m4/0AVG7fiRhWFbR4Wtpr3Nt73nTOCcroxb\u001b[62D\u001b[62C\u001b[2K\u001b[G\u001b[32m?\u001b[39m \u001b[1mEnter authorization code:\u001b[22m\u001b[0m \u001b[0m4/0AVG7fiRhWFbR4Wtpr3Nt73nTOCcroxbb\u001b[63D\u001b[63C\u001b[2K\u001b[G\u001b[32m?\u001b[39m \u001b[1mEnter authorization code:\u001b[22m\u001b[0m \u001b[0m4/0AVG7fiRhWFbR4Wtpr3Nt73nTOCcroxbbO\u001b[64D\u001b[64C\u001b[2K\u001b[G\u001b[32m?\u001b[39m \u001b[1mEnter authorization code:\u001b[22m\u001b[0m \u001b[0m4/0AVG7fiRhWFbR4Wtpr3Nt73nTOCcroxbbOe\u001b[65D\u001b[65C\u001b[2K\u001b[G\u001b[32m?\u001b[39m \u001b[1mEnter authorization code:\u001b[22m\u001b[0m \u001b[0m4/0AVG7fiRhWFbR4Wtpr3Nt73nTOCcroxbbOeC\u001b[66D\u001b[66C\u001b[2K\u001b[G\u001b[32m?\u001b[39m \u001b[1mEnter authorization code:\u001b[22m\u001b[0m \u001b[0m4/0AVG7fiRhWFbR4Wtpr3Nt73nTOCcroxbbOeC2\u001b[67D\u001b[67C\u001b[2K\u001b[G\u001b[32m?\u001b[39m \u001b[1mEnter authorization code:\u001b[22m\u001b[0m \u001b[0m4/0AVG7fiRhWFbR4Wtpr3Nt73nTOCcroxbbOeC2l\u001b[68D\u001b[68C\u001b[2K\u001b[G\u001b[32m?\u001b[39m \u001b[1mEnter authorization code:\u001b[22m\u001b[0m \u001b[0m4/0AVG7fiRhWFbR4Wtpr3Nt73nTOCcroxbbOeC2lV\u001b[69D\u001b[69C\u001b[2K\u001b[G\u001b[32m?\u001b[39m \u001b[1mEnter authorization code:\u001b[22m\u001b[0m \u001b[0m4/0AVG7fiRhWFbR4Wtpr3Nt73nTOCcroxbbOeC2lVC\u001b[70D\u001b[70C\u001b[2K\u001b[G\u001b[32m?\u001b[39m \u001b[1mEnter authorization code:\u001b[22m\u001b[0m \u001b[0m4/0AVG7fiRhWFbR4Wtpr3Nt73nTOCcroxbbOeC2lVCk\u001b[71D\u001b[71C\u001b[2K\u001b[G\u001b[32m?\u001b[39m \u001b[1mEnter authorization code:\u001b[22m\u001b[0m \u001b[0m4/0AVG7fiRhWFbR4Wtpr3Nt73nTOCcroxbbOeC2lVCkD\u001b[72D\u001b[72C\u001b[2K\u001b[G\u001b[32m?\u001b[39m \u001b[1mEnter authorization code:\u001b[22m\u001b[0m \u001b[0m4/0AVG7fiRhWFbR4Wtpr3Nt73nTOCcroxbbOeC2lVCkDS\u001b[73D\u001b[73C\u001b[2K\u001b[G\u001b[32m?\u001b[39m \u001b[1mEnter authorization code:\u001b[22m\u001b[0m \u001b[0m4/0AVG7fiRhWFbR4Wtpr3Nt73nTOCcroxbbOeC2lVCkDSt\u001b[74D\u001b[74C\u001b[2K\u001b[G\u001b[32m?\u001b[39m \u001b[1mEnter authorization code:\u001b[22m\u001b[0m \u001b[0m4/0AVG7fiRhWFbR4Wtpr3Nt73nTOCcroxbbOeC2lVCkDSto\u001b[75D\u001b[75C\u001b[2K\u001b[G\u001b[32m?\u001b[39m \u001b[1mEnter authorization code:\u001b[22m\u001b[0m \u001b[0m4/0AVG7fiRhWFbR4Wtpr3Nt73nTOCcroxbbOeC2lVCkDStol\u001b[76D\u001b[76C\u001b[2K\u001b[G\u001b[32m?\u001b[39m \u001b[1mEnter authorization code:\u001b[22m\u001b[0m \u001b[0m4/0AVG7fiRhWFbR4Wtpr3Nt73nTOCcroxbbOeC2lVCkDStoly\u001b[77D\u001b[77C\u001b[2K\u001b[G\u001b[32m?\u001b[39m \u001b[1mEnter authorization code:\u001b[22m\u001b[0m \u001b[0m4/0AVG7fiRhWFbR4Wtpr3Nt73nTOCcroxbbOeC2lVCkDStolym\u001b[78D\u001b[78C\u001b[2K\u001b[G\u001b[32m?\u001b[39m \u001b[1mEnter authorization code:\u001b[22m\u001b[0m \u001b[0m4/0AVG7fiRhWFbR4Wtpr3Nt73nTOCcroxbbOeC2lVCkDStolym7\u001b[79D\u001b[79C\u001b[2K\u001b[G\u001b[32m?\u001b[39m \u001b[1mEnter authorization code:\u001b[22m\u001b[0m \u001b[0m4/0AVG7fiRhWFbR4Wtpr3Nt73nTOCcroxbbOeC2lVCkDStolym7q\n",
            "\u001b[1A\u001b[0D\u001b[80C\u001b[1B\u001b[2K\u001b[1A\u001b[2K\u001b[G\u001b[32m?\u001b[39m \u001b[1mEnter authorization code:\u001b[22m\u001b[0m \n",
            "\u001b[0m4/0AVG7fiRhWFbR4Wtpr3Nt73nTOCcroxbbOeC2lVCkDStolym7qU\u001b[1A\u001b[53D\u001b[81C\u001b[1B\u001b[2K\u001b[1A\u001b[2K\u001b[G\u001b[32m?\u001b[39m \u001b[1mEnter authorization code:\u001b[22m\u001b[0m \n",
            "\u001b[0m4/0AVG7fiRhWFbR4Wtpr3Nt73nTOCcroxbbOeC2lVCkDStolym7qUq\u001b[1A\u001b[54D\u001b[82C\u001b[1B\u001b[2K\u001b[1A\u001b[2K\u001b[G\u001b[32m?\u001b[39m \u001b[1mEnter authorization code:\u001b[22m\u001b[0m \n",
            "\u001b[0m4/0AVG7fiRhWFbR4Wtpr3Nt73nTOCcroxbbOeC2lVCkDStolym7qUqd\u001b[1A\u001b[55D\u001b[83C\u001b[1B\u001b[2K\u001b[1A\u001b[2K\u001b[G\u001b[32m?\u001b[39m \u001b[1mEnter authorization code:\u001b[22m\u001b[0m \n",
            "\u001b[0m4/0AVG7fiRhWFbR4Wtpr3Nt73nTOCcroxbbOeC2lVCkDStolym7qUqdO\u001b[1A\u001b[56D\u001b[84C\u001b[1B\u001b[2K\u001b[1A\u001b[2K\u001b[G\u001b[32m?\u001b[39m \u001b[1mEnter authorization code:\u001b[22m\u001b[0m \n",
            "\u001b[0m4/0AVG7fiRhWFbR4Wtpr3Nt73nTOCcroxbbOeC2lVCkDStolym7qUqdOu\u001b[1A\u001b[57D\u001b[85C\u001b[1B\u001b[2K\u001b[1A\u001b[2K\u001b[G\u001b[32m?\u001b[39m \u001b[1mEnter authorization code:\u001b[22m\u001b[0m \n",
            "\u001b[0m4/0AVG7fiRhWFbR4Wtpr3Nt73nTOCcroxbbOeC2lVCkDStolym7qUqdOuJ\u001b[1A\u001b[58D\u001b[86C\u001b[1B\u001b[2K\u001b[1A\u001b[2K\u001b[G\u001b[32m?\u001b[39m \u001b[1mEnter authorization code:\u001b[22m\u001b[0m \n",
            "\u001b[0m4/0AVG7fiRhWFbR4Wtpr3Nt73nTOCcroxbbOeC2lVCkDStolym7qUqdOuJY\u001b[1A\u001b[59D\u001b[87C\u001b[1B\u001b[2K\u001b[1A\u001b[2K\u001b[G\u001b[32m?\u001b[39m \u001b[1mEnter authorization code:\u001b[22m\u001b[0m \n",
            "\u001b[0m4/0AVG7fiRhWFbR4Wtpr3Nt73nTOCcroxbbOeC2lVCkDStolym7qUqdOuJYb\u001b[1A\u001b[60D\u001b[88C\u001b[1B\u001b[2K\u001b[1A\u001b[2K\u001b[G\u001b[32m?\u001b[39m \u001b[1mEnter authorization code:\u001b[22m\u001b[0m \n",
            "\u001b[0m4/0AVG7fiRhWFbR4Wtpr3Nt73nTOCcroxbbOeC2lVCkDStolym7qUqdOuJYbC\u001b[1A\u001b[61D\u001b[89C\u001b[1B\u001b[2K\u001b[1A\u001b[2K\u001b[G\u001b[32m?\u001b[39m \u001b[1mEnter authorization code:\u001b[22m\u001b[0m \n",
            "\u001b[0m4/0AVG7fiRhWFbR4Wtpr3Nt73nTOCcroxbbOeC2lVCkDStolym7qUqdOuJYbC4\u001b[1A\u001b[62D\u001b[90C\u001b[1B\u001b[2K\u001b[1A\u001b[2K\u001b[G\u001b[32m?\u001b[39m \u001b[1mEnter authorization code:\u001b[22m\u001b[0m \n",
            "\u001b[0m4/0AVG7fiRhWFbR4Wtpr3Nt73nTOCcroxbbOeC2lVCkDStolym7qUqdOuJYbC4u\u001b[1A\u001b[63D\u001b[91C\u001b[1B\u001b[2K\u001b[1A\u001b[2K\u001b[G\u001b[32m?\u001b[39m \u001b[1mEnter authorization code:\u001b[22m\u001b[0m \n",
            "\u001b[0m4/0AVG7fiRhWFbR4Wtpr3Nt73nTOCcroxbbOeC2lVCkDStolym7qUqdOuJYbC4uG\u001b[1A\u001b[64D\u001b[92C\u001b[1B\u001b[2K\u001b[1A\u001b[2K\u001b[G\u001b[32m?\u001b[39m \u001b[1mEnter authorization code:\u001b[22m\u001b[0m \n",
            "\u001b[0m4/0AVG7fiRhWFbR4Wtpr3Nt73nTOCcroxbbOeC2lVCkDStolym7qUqdOuJYbC4uGP\u001b[1A\u001b[65D\u001b[93C\u001b[1B\u001b[2K\u001b[1A\u001b[2K\u001b[G\u001b[32m?\u001b[39m \u001b[1mEnter authorization code:\u001b[22m\u001b[0m \n",
            "\u001b[0m4/0AVG7fiRhWFbR4Wtpr3Nt73nTOCcroxbbOeC2lVCkDStolym7qUqdOuJYbC4uGPJ\u001b[1A\u001b[66D\u001b[94C\u001b[1B\u001b[2K\u001b[1A\u001b[2K\u001b[G\u001b[32m?\u001b[39m \u001b[1mEnter authorization code:\u001b[22m\u001b[0m \n",
            "\u001b[0m4/0AVG7fiRhWFbR4Wtpr3Nt73nTOCcroxbbOeC2lVCkDStolym7qUqdOuJYbC4uGPJM\u001b[1A\u001b[67D\u001b[95C\u001b[1B\u001b[2K\u001b[1A\u001b[2K\u001b[G\u001b[32m?\u001b[39m \u001b[1mEnter authorization code:\u001b[22m\u001b[0m \n",
            "\u001b[0m4/0AVG7fiRhWFbR4Wtpr3Nt73nTOCcroxbbOeC2lVCkDStolym7qUqdOuJYbC4uGPJMF\u001b[1A\u001b[68D\u001b[96C\u001b[1B\u001b[2K\u001b[1A\u001b[2K\u001b[G\u001b[32m?\u001b[39m \u001b[1mEnter authorization code:\u001b[22m\u001b[0m \n",
            "\u001b[0m4/0AVG7fiRhWFbR4Wtpr3Nt73nTOCcroxbbOeC2lVCkDStolym7qUqdOuJYbC4uGPJMF7\u001b[1A\u001b[69D\u001b[97C\u001b[1B\u001b[2K\u001b[1A\u001b[2K\u001b[G\u001b[32m?\u001b[39m \u001b[1mEnter authorization code:\u001b[22m\u001b[0m \n",
            "\u001b[0m4/0AVG7fiRhWFbR4Wtpr3Nt73nTOCcroxbbOeC2lVCkDStolym7qUqdOuJYbC4uGPJMF7t\u001b[1A\u001b[70D\u001b[98C\u001b[1B\u001b[2K\u001b[1A\u001b[2K\u001b[G\u001b[32m?\u001b[39m \u001b[1mEnter authorization code:\u001b[22m\u001b[0m \n",
            "\u001b[0m4/0AVG7fiRhWFbR4Wtpr3Nt73nTOCcroxbbOeC2lVCkDStolym7qUqdOuJYbC4uGPJMF7tD\u001b[1A\u001b[71D\u001b[99C\u001b[1B\u001b[2K\u001b[1A\u001b[2K\u001b[G\u001b[32m?\u001b[39m \u001b[1mEnter authorization code:\u001b[22m\u001b[0m \n",
            "\u001b[0m4/0AVG7fiRhWFbR4Wtpr3Nt73nTOCcroxbbOeC2lVCkDStolym7qUqdOuJYbC4uGPJMF7tDv\u001b[1A\u001b[72D\u001b[100C\u001b[1B\u001b[2K\u001b[1A\u001b[2K\u001b[G\u001b[32m?\u001b[39m \u001b[1mEnter authorization code:\u001b[22m\u001b[0m \n",
            "\u001b[0m4/0AVG7fiRhWFbR4Wtpr3Nt73nTOCcroxbbOeC2lVCkDStolym7qUqdOuJYbC4uGPJMF7tDvQ\u001b[1A\u001b[73D\u001b[101C\u001b[1B\u001b[2K\u001b[1A\u001b[2K\u001b[G\u001b[32m?\u001b[39m \u001b[1mEnter authorization code:\u001b[22m\u001b[0m \n",
            "\u001b[0m\u001b[36m4/0AVG7fiRhWFbR4Wtpr3Nt73nTOCcroxbbOeC2lVCkDStolym7qUqdOuJYbC4uGPJMF7tDvQ\u001b[39m\u001b[1A\u001b[73D\u001b[101C\n",
            "\u001b[1B\n",
            "\u001b[32m\u001b[1m✔ \u001b[22m\u001b[39m Success! Logged in as \u001b[1mnithyasrikc17@gmail.com\u001b[22m\n"
          ]
        }
      ]
    },
    {
      "cell_type": "code",
      "source": [
        "!firebase init hosting\n",
        "!firebase deploy --only hosting\n"
      ],
      "metadata": {
        "colab": {
          "base_uri": "https://localhost:8080/"
        },
        "id": "RXD2jlccmuzv",
        "outputId": "0894de30-134d-4def-b7f8-e15d4daf61fb"
      },
      "execution_count": null,
      "outputs": [
        {
          "output_type": "stream",
          "name": "stdout",
          "text": [
            "\u001b[33m\u001b[1m\n",
            "     ######## #### ########  ######## ########     ###     ######  ########\n",
            "     ##        ##  ##     ## ##       ##     ##  ##   ##  ##       ##\n",
            "     ######    ##  ########  ######   ########  #########  ######  ######\n",
            "     ##        ##  ##    ##  ##       ##     ## ##     ##       ## ##\n",
            "     ##       #### ##     ## ######## ########  ##     ##  ######  ########\n",
            "\u001b[22m\u001b[39m\n",
            "You're about to initialize a Firebase project in this directory:\n",
            "\n",
            "  \u001b[1m/content\u001b[22m\n",
            "\n",
            "Before we get started, keep in mind:\n",
            "\n",
            "  \u001b[33m\u001b[1m* \u001b[22m\u001b[39mYou are currently outside your home directory\n",
            "\n",
            "\u001b[1m\n",
            "\u001b[37m===\u001b[39m Project Setup\u001b[22m\n",
            "\n",
            "First, let's associate this project directory with a Firebase project.\n",
            "You can create multiple project aliases by running \u001b[1mfirebase use --add\u001b[22m, \n",
            "but for now we'll just set up a default project.\n",
            "\n",
            "\u001b[?25l\u001b[32m?\u001b[39m \u001b[1mPlease select an option:\u001b[22m\u001b[0m \u001b[0m\u001b[2m(Use arrow keys)\u001b[22m\r\n",
            "\u001b[36m❯ Use an existing project\u001b[39m \r\n",
            "  Create a new project \r\n",
            "  Add Firebase to an existing Google Cloud Platform project \r\n",
            "  Don't set up a default project \u001b[33D\u001b[33C"
          ]
        }
      ]
    },
    {
      "cell_type": "code",
      "source": [],
      "metadata": {
        "id": "AUyqGANvoFrv"
      },
      "execution_count": null,
      "outputs": []
    }
  ]
}